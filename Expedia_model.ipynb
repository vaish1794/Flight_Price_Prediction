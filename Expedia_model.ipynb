{
 "cells": [
  {
   "cell_type": "markdown",
   "id": "7a64e4b1",
   "metadata": {},
   "source": [
    "# Flight Price Prediction Project"
   ]
  },
  {
   "cell_type": "markdown",
   "id": "2abc3625",
   "metadata": {},
   "source": [
    "##### Part 1- Data Modelling and Testing"
   ]
  },
  {
   "cell_type": "markdown",
   "id": "14eab057",
   "metadata": {},
   "source": [
    "##### In this program, the scraped data from Expedia website is analysed and model development and testing is performed to obtain a model to predict the price of flight ticket fare.The name of the file containing the scraped data is \"expedia_5.csv\""
   ]
  },
  {
   "cell_type": "code",
   "execution_count": 47,
   "id": "e402a419",
   "metadata": {},
   "outputs": [],
   "source": [
    "#Importing the neccesary libraries\n",
    "\n",
    "import pandas as pd\n",
    "import numpy as np\n",
    "import matplotlib.pyplot as plt\n",
    "import seaborn as sns\n",
    "import warnings\n",
    "warnings.filterwarnings('ignore')\n",
    "import math"
   ]
  },
  {
   "cell_type": "code",
   "execution_count": 294,
   "id": "34eb7703",
   "metadata": {},
   "outputs": [],
   "source": [
    "#Loading the data\n",
    "\n",
    "df=pd.read_csv(\"expedia_5.csv\") #Expedia database"
   ]
  },
  {
   "cell_type": "code",
   "execution_count": 295,
   "id": "77eea8ac",
   "metadata": {},
   "outputs": [],
   "source": [
    "#Defining the columns for the dataframe\n",
    "df.columns =['Serial','Departure_time','Arrival_time','Departure_city','Arrival_city','Departure_date','Airline','Stops','Price']"
   ]
  },
  {
   "cell_type": "code",
   "execution_count": 296,
   "id": "573464e2",
   "metadata": {},
   "outputs": [],
   "source": [
    "#Dropping the \"Serial\" column\n",
    "df=df.drop([\"Serial\"],axis=1)"
   ]
  },
  {
   "cell_type": "code",
   "execution_count": 297,
   "id": "997051ae",
   "metadata": {},
   "outputs": [
    {
     "name": "stdout",
     "output_type": "stream",
     "text": [
      "<class 'pandas.core.frame.DataFrame'>\n",
      "RangeIndex: 5346 entries, 0 to 5345\n",
      "Data columns (total 8 columns):\n",
      " #   Column          Non-Null Count  Dtype \n",
      "---  ------          --------------  ----- \n",
      " 0   Departure_time  5346 non-null   object\n",
      " 1   Arrival_time    5346 non-null   object\n",
      " 2   Departure_city  5346 non-null   object\n",
      " 3   Arrival_city    5346 non-null   object\n",
      " 4   Departure_date  5346 non-null   object\n",
      " 5   Airline         5346 non-null   object\n",
      " 6   Stops           5346 non-null   object\n",
      " 7   Price           5346 non-null   object\n",
      "dtypes: object(8)\n",
      "memory usage: 334.2+ KB\n"
     ]
    }
   ],
   "source": [
    "#All the columns are of object type, time,date and price column have to converted to integer type\n",
    "\n",
    "df.info()"
   ]
  },
  {
   "cell_type": "code",
   "execution_count": 6,
   "id": "6f92b11e",
   "metadata": {},
   "outputs": [
    {
     "data": {
      "text/html": [
       "<div>\n",
       "<style scoped>\n",
       "    .dataframe tbody tr th:only-of-type {\n",
       "        vertical-align: middle;\n",
       "    }\n",
       "\n",
       "    .dataframe tbody tr th {\n",
       "        vertical-align: top;\n",
       "    }\n",
       "\n",
       "    .dataframe thead th {\n",
       "        text-align: right;\n",
       "    }\n",
       "</style>\n",
       "<table border=\"1\" class=\"dataframe\">\n",
       "  <thead>\n",
       "    <tr style=\"text-align: right;\">\n",
       "      <th></th>\n",
       "      <th>Departure_time</th>\n",
       "      <th>Arrival_time</th>\n",
       "      <th>Departure_city</th>\n",
       "      <th>Arrival_city</th>\n",
       "      <th>Departure_date</th>\n",
       "      <th>Airline</th>\n",
       "      <th>Stops</th>\n",
       "      <th>Price</th>\n",
       "    </tr>\n",
       "  </thead>\n",
       "  <tbody>\n",
       "    <tr>\n",
       "      <th>count</th>\n",
       "      <td>5346</td>\n",
       "      <td>5346</td>\n",
       "      <td>5346</td>\n",
       "      <td>5346</td>\n",
       "      <td>5346</td>\n",
       "      <td>5346</td>\n",
       "      <td>5346</td>\n",
       "      <td>5346</td>\n",
       "    </tr>\n",
       "    <tr>\n",
       "      <th>unique</th>\n",
       "      <td>80</td>\n",
       "      <td>139</td>\n",
       "      <td>1</td>\n",
       "      <td>6</td>\n",
       "      <td>9</td>\n",
       "      <td>4</td>\n",
       "      <td>3</td>\n",
       "      <td>234</td>\n",
       "    </tr>\n",
       "    <tr>\n",
       "      <th>top</th>\n",
       "      <td>20:30</td>\n",
       "      <td>19:45</td>\n",
       "      <td>Hyderabad (HYD)</td>\n",
       "      <td>Ahmedabad (AMD)</td>\n",
       "      <td>09-Feb-23</td>\n",
       "      <td>Vistara</td>\n",
       "      <td>1 stop</td>\n",
       "      <td>₹11,771</td>\n",
       "    </tr>\n",
       "    <tr>\n",
       "      <th>freq</th>\n",
       "      <td>380</td>\n",
       "      <td>293</td>\n",
       "      <td>5346</td>\n",
       "      <td>3245</td>\n",
       "      <td>3951</td>\n",
       "      <td>2906</td>\n",
       "      <td>4548</td>\n",
       "      <td>605</td>\n",
       "    </tr>\n",
       "  </tbody>\n",
       "</table>\n",
       "</div>"
      ],
      "text/plain": [
       "       Departure_time Arrival_time    Departure_city      Arrival_city  \\\n",
       "count            5346         5346              5346              5346   \n",
       "unique             80          139                 1                 6   \n",
       "top             20:30        19:45  Hyderabad (HYD)    Ahmedabad (AMD)   \n",
       "freq              380          293              5346              3245   \n",
       "\n",
       "       Departure_date  Airline   Stops    Price  \n",
       "count            5346     5346    5346     5346  \n",
       "unique              9        4       3      234  \n",
       "top         09-Feb-23  Vistara  1 stop  ₹11,771  \n",
       "freq             3951     2906    4548      605  "
      ]
     },
     "execution_count": 6,
     "metadata": {},
     "output_type": "execute_result"
    }
   ],
   "source": [
    "df.describe()"
   ]
  },
  {
   "cell_type": "code",
   "execution_count": 7,
   "id": "2eec368d",
   "metadata": {},
   "outputs": [
    {
     "data": {
      "text/plain": [
       "(5346, 8)"
      ]
     },
     "execution_count": 7,
     "metadata": {},
     "output_type": "execute_result"
    }
   ],
   "source": [
    "#The dataset had 5346 rows and 8 columns\n",
    "#\n",
    "df.shape"
   ]
  },
  {
   "cell_type": "code",
   "execution_count": 8,
   "id": "2427c711",
   "metadata": {},
   "outputs": [
    {
     "name": "stdout",
     "output_type": "stream",
     "text": [
      "Column Departure_time has 80 unique values\n",
      "Column Arrival_time has 139 unique values\n",
      "Column Departure_city has 1 unique values\n",
      "Column Arrival_city has 6 unique values\n",
      "Column Departure_date has 9 unique values\n",
      "Column Airline has 4 unique values\n",
      "Column Stops has 3 unique values\n",
      "Column Price has 234 unique values\n"
     ]
    }
   ],
   "source": [
    "for i in df.columns:\n",
    "    print(\"Column\",i,\"has\",len(df[i].unique()),\"unique values\")"
   ]
  },
  {
   "cell_type": "code",
   "execution_count": 298,
   "id": "8c0bc45c",
   "metadata": {},
   "outputs": [],
   "source": [
    "#Dropping duplicate values from the dataset\n",
    "\n",
    "df1=df.drop_duplicates()\n"
   ]
  },
  {
   "cell_type": "code",
   "execution_count": 299,
   "id": "efb8d130",
   "metadata": {},
   "outputs": [],
   "source": [
    "#From the departure_time and arrival_time columns, we are extracting the hours\n",
    "\n",
    "spare6=df1[\"Departure_time\"]\n",
    "spare7=[]\n",
    "for i in spare6:\n",
    "    spare7.append(i.split(\":\"))\n",
    "spare8=[]\n",
    "for i in range(len(spare7)):\n",
    "    spare8.append(spare7[i][0])\n",
    "df1[\"Departure_time\"]=spare8"
   ]
  },
  {
   "cell_type": "code",
   "execution_count": 300,
   "id": "39ac2b76",
   "metadata": {},
   "outputs": [],
   "source": [
    "spare4=df1[\"Arrival_time\"]\n",
    "spare5=[]\n",
    "for i in spare4:\n",
    "    spare5.append(i.split(\":\"))\n",
    "spare6=[]\n",
    "for i in range(len(spare5)):\n",
    "    spare6.append(spare5[i][0])\n",
    "df1[\"Arrival_time\"]=spare6"
   ]
  },
  {
   "cell_type": "code",
   "execution_count": 301,
   "id": "095efab3",
   "metadata": {
    "scrolled": true
   },
   "outputs": [],
   "source": [
    "#Removing the rupee symbol from the price column and converting into integer type\n",
    "\n",
    "df1[\"Price\"]=df1[\"Price\"].replace(\"₹\",\"\",regex=True)\n",
    "df1[\"Price\"]=df1[\"Price\"].replace(\",\",\"\",regex=True)\n",
    "df1[\"Price\"]=df1[\"Price\"].astype(\"int\")\n",
    "\n"
   ]
  },
  {
   "cell_type": "code",
   "execution_count": 302,
   "id": "e998606e",
   "metadata": {},
   "outputs": [],
   "source": [
    "#Converting the departure_date column from object to datetime format\n",
    "\n",
    "df1[\"Departure_date\"]=pd.to_datetime(df1[\"Departure_date\"])"
   ]
  },
  {
   "cell_type": "code",
   "execution_count": 303,
   "id": "12f3f832",
   "metadata": {},
   "outputs": [],
   "source": [
    "#Converting the departure time and arrival time columns to integer type\n",
    "\n",
    "df1[\"Departure_time\"]=df1[\"Departure_time\"].astype(\"int\")\n",
    "df1[\"Arrival_time\"]=df1[\"Arrival_time\"].astype(\"int\")"
   ]
  },
  {
   "cell_type": "code",
   "execution_count": 304,
   "id": "1a51ddec",
   "metadata": {},
   "outputs": [],
   "source": [
    "#Extracing only the day from the date since the year and month are same for all entries\n",
    "\n",
    "df1[\"Day\"]=df1[\"Departure_date\"].apply(lambda x:x.day)"
   ]
  },
  {
   "cell_type": "code",
   "execution_count": 305,
   "id": "fac3bd47",
   "metadata": {
    "scrolled": true
   },
   "outputs": [],
   "source": [
    "df1.drop(\"Departure_date\",axis=1,inplace=True)"
   ]
  },
  {
   "cell_type": "markdown",
   "id": "c4f5d697",
   "metadata": {},
   "source": [
    "# Univariate Analysis"
   ]
  },
  {
   "cell_type": "code",
   "execution_count": 306,
   "id": "012765e2",
   "metadata": {},
   "outputs": [
    {
     "data": {
      "image/png": "[encoded data removed]",
      "text/plain": [
       "<Figure size 720x720 with 1 Axes>"
      ]
     },
     "metadata": {
      "needs_background": "light"
     },
     "output_type": "display_data"
    }
   ],
   "source": [
    "#Majority of the tickets are having departure time of 6-10 PM followed by 7-10AM and 4-5 PM\n",
    "\n",
    "plt.figure(figsize=(10,10))\n",
    "plt.hist(df1[\"Departure_time\"])\n",
    "plt.xlabel(\"Departure_time\") \n",
    "plt.ylabel(\"Distribution\")\n",
    "plt.title(\"Graphical Analysis of Features Distributions\")\n",
    "plt.show()"
   ]
  },
  {
   "cell_type": "code",
   "execution_count": 99,
   "id": "85af1f7b",
   "metadata": {},
   "outputs": [
    {
     "data": {
      "image/png": "[encoded data removed]",
      "text/plain": [
       "<Figure size 720x720 with 1 Axes>"
      ]
     },
     "metadata": {
      "needs_background": "light"
     },
     "output_type": "display_data"
    }
   ],
   "source": [
    "#Majority of the tickets are having arrival time of 6-9PM followed by 7-10AM\n",
    "plt.figure(figsize=(10,10))\n",
    "plt.hist(df1[\"Arrival_time\"])\n",
    "plt.xlabel(\"Departure_time\")\n",
    "plt.ylabel(\"Distribution\")\n",
    "plt.title(\"Graphical Analysis of Features Distributions\")\n",
    "plt.show()"
   ]
  },
  {
   "cell_type": "code",
   "execution_count": 100,
   "id": "298e2145",
   "metadata": {},
   "outputs": [
    {
     "data": {
      "image/png": "[encoded data removed]",
      "text/plain": [
       "<Figure size 720x720 with 1 Axes>"
      ]
     },
     "metadata": {
      "needs_background": "light"
     },
     "output_type": "display_data"
    }
   ],
   "source": [
    "#The flights deprting from hyderabad to the mentioned cities-Mumbai,Bangalore,Chennai,Kochi,Delhi and Ahmedabad\n",
    "#Most of the flights are arriving at Mumbai followed by Delhi and Chennai.\n",
    "\n",
    "plt.figure(figsize=(10,10))\n",
    "plt.hist(df1[\"Arrival_city\"])\n",
    "plt.xlabel(\"Arrival_city\")\n",
    "plt.ylabel(\"Distribution\")\n",
    "plt.title(\"Graphical Analysis of Features Distributions\")\n",
    "plt.show()"
   ]
  },
  {
   "cell_type": "code",
   "execution_count": 292,
   "id": "e97c9093",
   "metadata": {
    "scrolled": true
   },
   "outputs": [
    {
     "data": {
      "image/png": "[encoded data removed]",
      "text/plain": [
       "<Figure size 504x504 with 1 Axes>"
      ]
     },
     "metadata": {
      "needs_background": "light"
     },
     "output_type": "display_data"
    }
   ],
   "source": [
    "#The number of flights on 9th Feb 2023 is the highest followed by 2nd Feb.\n",
    "plt.figure(figsize=(7,7))\n",
    "plt.hist(df1[\"Day\"])\n",
    "plt.xlabel(\"Day\")\n",
    "plt.ylabel(\"Distribution\")\n",
    "plt.title(\"Graphical Analysis of Features Distributions\")\n",
    "plt.show()"
   ]
  },
  {
   "cell_type": "code",
   "execution_count": 307,
   "id": "4a014f35",
   "metadata": {
    "scrolled": true
   },
   "outputs": [
    {
     "data": {
      "image/png": "[encoded data removed]",
      "text/plain": [
       "<Figure size 360x360 with 1 Axes>"
      ]
     },
     "metadata": {
      "needs_background": "light"
     },
     "output_type": "display_data"
    }
   ],
   "source": [
    "#Most of the flights are of airline-Vistara followed by Indigo and Spicejet and least is Go First.\n",
    "\n",
    "plt.figure(figsize=(5,5))\n",
    "plt.hist(df1[\"Airline\"])\n",
    "plt.xlabel(\"Airline\")\n",
    "plt.ylabel(\"Distribution\")\n",
    "plt.title(\"Graphical Analysis of Features Distributions\")\n",
    "plt.show()"
   ]
  },
  {
   "cell_type": "code",
   "execution_count": 308,
   "id": "4894feb0",
   "metadata": {},
   "outputs": [
    {
     "data": {
      "image/png": "[encoded data removed]",
      "text/plain": [
       "<Figure size 360x360 with 1 Axes>"
      ]
     },
     "metadata": {
      "needs_background": "light"
     },
     "output_type": "display_data"
    }
   ],
   "source": [
    "#1300 flights are having one stop followed by 300 flights are direct\n",
    "\n",
    "plt.figure(figsize=(5,5))\n",
    "plt.hist(df1[\"Stops\"])\n",
    "plt.xlabel(\"Stops\")\n",
    "plt.ylabel(\"Distribution\")\n",
    "plt.title(\"Graphical Analysis of Features Distributions\")\n",
    "plt.show()"
   ]
  },
  {
   "cell_type": "code",
   "execution_count": 309,
   "id": "be79f59a",
   "metadata": {},
   "outputs": [
    {
     "data": {
      "image/png": "[encoded data removed]",
      "text/plain": [
       "<Figure size 432x432 with 1 Axes>"
      ]
     },
     "metadata": {
      "needs_background": "light"
     },
     "output_type": "display_data"
    }
   ],
   "source": [
    "#The pricing of 430 tickets is between 9000-10000 followed by 320 tickets having a price range of 4000-5000\n",
    "#There are less tickets with price range of 15000-18000 and 2000-4000\n",
    "\n",
    "plt.figure(figsize=(6,6))\n",
    "plt.hist(df1[\"Price\"])\n",
    "plt.xlabel(\"Price\")\n",
    "plt.ylabel(\"Distribution\")\n",
    "plt.title(\"Graphical Analysis of Features Distributions\")\n",
    "plt.show()"
   ]
  },
  {
   "cell_type": "markdown",
   "id": "8033cfec",
   "metadata": {},
   "source": [
    "# Bivariate Analysis"
   ]
  },
  {
   "cell_type": "code",
   "execution_count": 310,
   "id": "7da5a9c7",
   "metadata": {},
   "outputs": [
    {
     "data": {
      "image/png": "[encoded data removed]",
      "text/plain": [
       "<Figure size 360x360 with 1 Axes>"
      ]
     },
     "metadata": {
      "needs_background": "light"
     },
     "output_type": "display_data"
    }
   ],
   "source": [
    "#The pricing is high for peak-time departure and price is comparatively less for early morning and late night flights\n",
    "\n",
    "plt.figure(figsize=(5,5))\n",
    "sns.scatterplot(df1[\"Departure_time\"],df1[\"Price\"])\n",
    "plt.xlabel(\"Departure_time\")\n",
    "plt.ylabel(\"Price\")\n",
    "plt.title(\"Graphical Analysis of Features Distributions\")\n",
    "plt.show()"
   ]
  },
  {
   "cell_type": "code",
   "execution_count": 311,
   "id": "6c227323",
   "metadata": {},
   "outputs": [
    {
     "data": {
      "image/png": "[encoded data removed]",
      "text/plain": [
       "<Figure size 360x360 with 1 Axes>"
      ]
     },
     "metadata": {
      "needs_background": "light"
     },
     "output_type": "display_data"
    }
   ],
   "source": [
    "#The pricing is less for mid-night and early morning(till 7 AM) arrivals\n",
    "\n",
    "plt.figure(figsize=(5,5))\n",
    "sns.scatterplot(df1[\"Arrival_time\"],df1[\"Price\"])\n",
    "plt.xlabel(\"Arrival_time\")\n",
    "plt.ylabel(\"Price\")\n",
    "plt.title(\"Graphical Analysis of Features Distributions\")\n",
    "plt.show()"
   ]
  },
  {
   "cell_type": "code",
   "execution_count": 312,
   "id": "9d49e94a",
   "metadata": {},
   "outputs": [
    {
     "data": {
      "image/png": "[encoded data removed]",
      "text/plain": [
       "<Figure size 288x288 with 1 Axes>"
      ]
     },
     "metadata": {
      "needs_background": "light"
     },
     "output_type": "display_data"
    }
   ],
   "source": [
    "#2nd and 9th Feb have the high ticket fare\n",
    "#1st,3rd,4th,5th,6th,7th and 8th have almost same pricing\n",
    "\n",
    "plt.figure(figsize=(4,4))\n",
    "sns.scatterplot(df1[\"Day\"],df1[\"Price\"])\n",
    "plt.xlabel(\"Day\")\n",
    "plt.ylabel(\"Price\")\n",
    "plt.title(\"Graphical Analysis of Features Distributions\")\n",
    "plt.show()"
   ]
  },
  {
   "cell_type": "code",
   "execution_count": 314,
   "id": "5eea01bc",
   "metadata": {},
   "outputs": [
    {
     "data": {
      "image/png": "[encoded data removed]",
      "text/plain": [
       "<Figure size 360x360 with 1 Axes>"
      ]
     },
     "metadata": {
      "needs_background": "light"
     },
     "output_type": "display_data"
    }
   ],
   "source": [
    "#From hyderabad the flights to Mumbai and Kochi are higher price range followed by Ahmedabad, Delhi, Chennai and Banaglore\n",
    "\n",
    "plt.figure(figsize=(5,5))\n",
    "sns.barplot(x=df1[\"Arrival_city\"],y=df1[\"Price\"],data=df1)\n",
    "plt.xlabel(\"Arrival_city\")\n",
    "plt.ylabel(\"Price\")\n",
    "plt.xticks(rotation=45)\n",
    "plt.title(\"Graphical Analysis of Features Distributions\")\n",
    "plt.show()"
   ]
  },
  {
   "cell_type": "code",
   "execution_count": 315,
   "id": "11d85acc",
   "metadata": {},
   "outputs": [
    {
     "data": {
      "image/png": "[encoded data removed]",
      "text/plain": [
       "<Figure size 288x288 with 1 Axes>"
      ]
     },
     "metadata": {
      "needs_background": "light"
     },
     "output_type": "display_data"
    }
   ],
   "source": [
    "#Vistara airlines have higher price range followed by Spiceject, Indigo and Gofirst\n",
    "\n",
    "plt.figure(figsize=(4,4))\n",
    "sns.barplot(x=df1[\"Airline\"],y=df1[\"Price\"],data=df1)\n",
    "plt.xlabel(\"Airline\")\n",
    "plt.ylabel(\"Price\")\n",
    "plt.xticks(rotation=45)\n",
    "plt.title(\"Graphical Analysis of Features Distributions\")\n",
    "plt.show()"
   ]
  },
  {
   "cell_type": "code",
   "execution_count": 316,
   "id": "6cce5de2",
   "metadata": {},
   "outputs": [
    {
     "data": {
      "image/png": "[encoded data removed]",
      "text/plain": [
       "<Figure size 288x288 with 1 Axes>"
      ]
     },
     "metadata": {
      "needs_background": "light"
     },
     "output_type": "display_data"
    }
   ],
   "source": [
    "#1-stop flights are higher in price followed by 2-stops and direct flights are in less price range.\n",
    "\n",
    "plt.figure(figsize=(4,4))\n",
    "sns.barplot(x=df1[\"Stops\"],y=df1[\"Price\"],data=df1)\n",
    "plt.xlabel(\"Stops\")\n",
    "plt.ylabel(\"Price\")\n",
    "plt.title(\"Graphical Analysis of Features Distributions\")\n",
    "plt.show()"
   ]
  },
  {
   "cell_type": "markdown",
   "id": "54826db5",
   "metadata": {},
   "source": [
    "# Multivariate Analysis"
   ]
  },
  {
   "cell_type": "code",
   "execution_count": 33,
   "id": "a53d59a5",
   "metadata": {},
   "outputs": [
    {
     "data": {
      "text/plain": [
       "Departure_time    0.076029\n",
       "Arrival_time      0.196822\n",
       "Price             1.000000\n",
       "Day              -0.043511\n",
       "Name: Price, dtype: float64"
      ]
     },
     "execution_count": 33,
     "metadata": {},
     "output_type": "execute_result"
    }
   ],
   "source": [
    "#Departure_time and arrival_time have the high positiver correlation with price\n",
    "\n",
    "df1.corr()[\"Price\"]"
   ]
  },
  {
   "cell_type": "code",
   "execution_count": 74,
   "id": "7012fd4a",
   "metadata": {},
   "outputs": [
    {
     "data": {
      "text/plain": [
       "<AxesSubplot:>"
      ]
     },
     "execution_count": 74,
     "metadata": {},
     "output_type": "execute_result"
    },
    {
     "data": {
      "image/png": "[encoded data removed]",
      "text/plain": [
       "<Figure size 720x720 with 2 Axes>"
      ]
     },
     "metadata": {
      "needs_background": "light"
     },
     "output_type": "display_data"
    }
   ],
   "source": [
    "#Checking Correlation by plotting heatmap\n",
    "plt.figure(figsize=(10,10))\n",
    "sns.heatmap(df1.corr(),annot=True)"
   ]
  },
  {
   "cell_type": "code",
   "execution_count": 109,
   "id": "d252da43",
   "metadata": {},
   "outputs": [
    {
     "data": {
      "text/plain": [
       "Departure_time       AxesSubplot(0.125,0.125;0.168478x0.755)\n",
       "Arrival_time      AxesSubplot(0.327174,0.125;0.168478x0.755)\n",
       "Price             AxesSubplot(0.529348,0.125;0.168478x0.755)\n",
       "Day               AxesSubplot(0.731522,0.125;0.168478x0.755)\n",
       "dtype: object"
      ]
     },
     "execution_count": 109,
     "metadata": {},
     "output_type": "execute_result"
    },
    {
     "data": {
      "image/png": "[encoded data removed]",
      "text/plain": [
       "<Figure size 576x576 with 4 Axes>"
      ]
     },
     "metadata": {
      "needs_background": "light"
     },
     "output_type": "display_data"
    }
   ],
   "source": [
    "#On plotting the box plot for the data to check for outliers, there are no outliers\n",
    "\n",
    "df1.plot(kind='box',subplots=True,figsize=(8,8))"
   ]
  },
  {
   "cell_type": "markdown",
   "id": "dd5465f4",
   "metadata": {},
   "source": [
    "# Data Pre-processing"
   ]
  },
  {
   "cell_type": "code",
   "execution_count": 317,
   "id": "47934e2e",
   "metadata": {},
   "outputs": [],
   "source": [
    "#deleting departure_city since it has only one value\n",
    "df1.drop(\"Departure_city\",axis=1,inplace=True)"
   ]
  },
  {
   "cell_type": "code",
   "execution_count": 318,
   "id": "91583c1e",
   "metadata": {},
   "outputs": [
    {
     "data": {
      "text/html": [
       "<div>\n",
       "<style scoped>\n",
       "    .dataframe tbody tr th:only-of-type {\n",
       "        vertical-align: middle;\n",
       "    }\n",
       "\n",
       "    .dataframe tbody tr th {\n",
       "        vertical-align: top;\n",
       "    }\n",
       "\n",
       "    .dataframe thead th {\n",
       "        text-align: right;\n",
       "    }\n",
       "</style>\n",
       "<table border=\"1\" class=\"dataframe\">\n",
       "  <thead>\n",
       "    <tr style=\"text-align: right;\">\n",
       "      <th></th>\n",
       "      <th>Departure_time</th>\n",
       "      <th>Arrival_time</th>\n",
       "      <th>Arrival_city</th>\n",
       "      <th>Airline</th>\n",
       "      <th>Stops</th>\n",
       "      <th>Price</th>\n",
       "      <th>Day</th>\n",
       "    </tr>\n",
       "  </thead>\n",
       "  <tbody>\n",
       "    <tr>\n",
       "      <th>0</th>\n",
       "      <td>6</td>\n",
       "      <td>8</td>\n",
       "      <td>Mumbai (BOM)</td>\n",
       "      <td>IndiGo</td>\n",
       "      <td>Direct</td>\n",
       "      <td>4482</td>\n",
       "      <td>1</td>\n",
       "    </tr>\n",
       "    <tr>\n",
       "      <th>1</th>\n",
       "      <td>15</td>\n",
       "      <td>16</td>\n",
       "      <td>Mumbai (BOM)</td>\n",
       "      <td>Vistara</td>\n",
       "      <td>Direct</td>\n",
       "      <td>4688</td>\n",
       "      <td>1</td>\n",
       "    </tr>\n",
       "    <tr>\n",
       "      <th>2</th>\n",
       "      <td>8</td>\n",
       "      <td>10</td>\n",
       "      <td>Mumbai (BOM)</td>\n",
       "      <td>Vistara</td>\n",
       "      <td>Direct</td>\n",
       "      <td>4688</td>\n",
       "      <td>1</td>\n",
       "    </tr>\n",
       "    <tr>\n",
       "      <th>3</th>\n",
       "      <td>6</td>\n",
       "      <td>8</td>\n",
       "      <td>Mumbai (BOM)</td>\n",
       "      <td>Vistara</td>\n",
       "      <td>Direct</td>\n",
       "      <td>4688</td>\n",
       "      <td>1</td>\n",
       "    </tr>\n",
       "    <tr>\n",
       "      <th>4</th>\n",
       "      <td>12</td>\n",
       "      <td>14</td>\n",
       "      <td>Mumbai (BOM)</td>\n",
       "      <td>Vistara</td>\n",
       "      <td>Direct</td>\n",
       "      <td>4688</td>\n",
       "      <td>1</td>\n",
       "    </tr>\n",
       "    <tr>\n",
       "      <th>...</th>\n",
       "      <td>...</td>\n",
       "      <td>...</td>\n",
       "      <td>...</td>\n",
       "      <td>...</td>\n",
       "      <td>...</td>\n",
       "      <td>...</td>\n",
       "      <td>...</td>\n",
       "    </tr>\n",
       "    <tr>\n",
       "      <th>2155</th>\n",
       "      <td>7</td>\n",
       "      <td>8</td>\n",
       "      <td>Ahmedabad (AMD)</td>\n",
       "      <td>Vistara</td>\n",
       "      <td>1 stop</td>\n",
       "      <td>11771</td>\n",
       "      <td>9</td>\n",
       "    </tr>\n",
       "    <tr>\n",
       "      <th>2156</th>\n",
       "      <td>17</td>\n",
       "      <td>19</td>\n",
       "      <td>Ahmedabad (AMD)</td>\n",
       "      <td>Vistara</td>\n",
       "      <td>1 stop</td>\n",
       "      <td>11771</td>\n",
       "      <td>9</td>\n",
       "    </tr>\n",
       "    <tr>\n",
       "      <th>2157</th>\n",
       "      <td>20</td>\n",
       "      <td>22</td>\n",
       "      <td>Ahmedabad (AMD)</td>\n",
       "      <td>Vistara</td>\n",
       "      <td>1 stop</td>\n",
       "      <td>11771</td>\n",
       "      <td>9</td>\n",
       "    </tr>\n",
       "    <tr>\n",
       "      <th>2158</th>\n",
       "      <td>10</td>\n",
       "      <td>15</td>\n",
       "      <td>Ahmedabad (AMD)</td>\n",
       "      <td>Vistara</td>\n",
       "      <td>1 stop</td>\n",
       "      <td>14663</td>\n",
       "      <td>9</td>\n",
       "    </tr>\n",
       "    <tr>\n",
       "      <th>2159</th>\n",
       "      <td>9</td>\n",
       "      <td>16</td>\n",
       "      <td>Ahmedabad (AMD)</td>\n",
       "      <td>IndiGo</td>\n",
       "      <td>1 stop</td>\n",
       "      <td>17708</td>\n",
       "      <td>9</td>\n",
       "    </tr>\n",
       "  </tbody>\n",
       "</table>\n",
       "<p>1723 rows × 7 columns</p>\n",
       "</div>"
      ],
      "text/plain": [
       "      Departure_time  Arrival_time      Arrival_city  Airline   Stops  Price  \\\n",
       "0                  6             8      Mumbai (BOM)   IndiGo  Direct   4482   \n",
       "1                 15            16      Mumbai (BOM)  Vistara  Direct   4688   \n",
       "2                  8            10      Mumbai (BOM)  Vistara  Direct   4688   \n",
       "3                  6             8      Mumbai (BOM)  Vistara  Direct   4688   \n",
       "4                 12            14      Mumbai (BOM)  Vistara  Direct   4688   \n",
       "...              ...           ...               ...      ...     ...    ...   \n",
       "2155               7             8   Ahmedabad (AMD)  Vistara  1 stop  11771   \n",
       "2156              17            19   Ahmedabad (AMD)  Vistara  1 stop  11771   \n",
       "2157              20            22   Ahmedabad (AMD)  Vistara  1 stop  11771   \n",
       "2158              10            15   Ahmedabad (AMD)  Vistara  1 stop  14663   \n",
       "2159               9            16   Ahmedabad (AMD)   IndiGo  1 stop  17708   \n",
       "\n",
       "      Day  \n",
       "0       1  \n",
       "1       1  \n",
       "2       1  \n",
       "3       1  \n",
       "4       1  \n",
       "...   ...  \n",
       "2155    9  \n",
       "2156    9  \n",
       "2157    9  \n",
       "2158    9  \n",
       "2159    9  \n",
       "\n",
       "[1723 rows x 7 columns]"
      ]
     },
     "execution_count": 318,
     "metadata": {},
     "output_type": "execute_result"
    }
   ],
   "source": [
    "df1"
   ]
  },
  {
   "cell_type": "code",
   "execution_count": 319,
   "id": "999421f7",
   "metadata": {},
   "outputs": [],
   "source": [
    "#Encoding categorical columns\n",
    "from sklearn.preprocessing import LabelEncoder\n",
    "le=LabelEncoder()"
   ]
  },
  {
   "cell_type": "code",
   "execution_count": 320,
   "id": "ec48b1f5",
   "metadata": {},
   "outputs": [],
   "source": [
    "df1[\"Arrival_city\"]=le.fit_transform(df1[\"Arrival_city\"])"
   ]
  },
  {
   "cell_type": "code",
   "execution_count": 321,
   "id": "f0a9c2a6",
   "metadata": {},
   "outputs": [],
   "source": [
    "df1[\"Airline\"]=le.fit_transform(df1[\"Airline\"])"
   ]
  },
  {
   "cell_type": "code",
   "execution_count": 322,
   "id": "391cd863",
   "metadata": {},
   "outputs": [],
   "source": [
    "df1[\"Stops\"]=le.fit_transform(df1[\"Stops\"])"
   ]
  },
  {
   "cell_type": "code",
   "execution_count": 323,
   "id": "7ee1f3d7",
   "metadata": {
    "scrolled": true
   },
   "outputs": [
    {
     "data": {
      "text/html": [
       "<div>\n",
       "<style scoped>\n",
       "    .dataframe tbody tr th:only-of-type {\n",
       "        vertical-align: middle;\n",
       "    }\n",
       "\n",
       "    .dataframe tbody tr th {\n",
       "        vertical-align: top;\n",
       "    }\n",
       "\n",
       "    .dataframe thead th {\n",
       "        text-align: right;\n",
       "    }\n",
       "</style>\n",
       "<table border=\"1\" class=\"dataframe\">\n",
       "  <thead>\n",
       "    <tr style=\"text-align: right;\">\n",
       "      <th></th>\n",
       "      <th>Departure_time</th>\n",
       "      <th>Arrival_time</th>\n",
       "      <th>Arrival_city</th>\n",
       "      <th>Airline</th>\n",
       "      <th>Stops</th>\n",
       "      <th>Price</th>\n",
       "      <th>Day</th>\n",
       "    </tr>\n",
       "  </thead>\n",
       "  <tbody>\n",
       "    <tr>\n",
       "      <th>0</th>\n",
       "      <td>6</td>\n",
       "      <td>8</td>\n",
       "      <td>5</td>\n",
       "      <td>1</td>\n",
       "      <td>2</td>\n",
       "      <td>4482</td>\n",
       "      <td>1</td>\n",
       "    </tr>\n",
       "    <tr>\n",
       "      <th>1</th>\n",
       "      <td>15</td>\n",
       "      <td>16</td>\n",
       "      <td>5</td>\n",
       "      <td>3</td>\n",
       "      <td>2</td>\n",
       "      <td>4688</td>\n",
       "      <td>1</td>\n",
       "    </tr>\n",
       "    <tr>\n",
       "      <th>2</th>\n",
       "      <td>8</td>\n",
       "      <td>10</td>\n",
       "      <td>5</td>\n",
       "      <td>3</td>\n",
       "      <td>2</td>\n",
       "      <td>4688</td>\n",
       "      <td>1</td>\n",
       "    </tr>\n",
       "    <tr>\n",
       "      <th>3</th>\n",
       "      <td>6</td>\n",
       "      <td>8</td>\n",
       "      <td>5</td>\n",
       "      <td>3</td>\n",
       "      <td>2</td>\n",
       "      <td>4688</td>\n",
       "      <td>1</td>\n",
       "    </tr>\n",
       "    <tr>\n",
       "      <th>4</th>\n",
       "      <td>12</td>\n",
       "      <td>14</td>\n",
       "      <td>5</td>\n",
       "      <td>3</td>\n",
       "      <td>2</td>\n",
       "      <td>4688</td>\n",
       "      <td>1</td>\n",
       "    </tr>\n",
       "    <tr>\n",
       "      <th>...</th>\n",
       "      <td>...</td>\n",
       "      <td>...</td>\n",
       "      <td>...</td>\n",
       "      <td>...</td>\n",
       "      <td>...</td>\n",
       "      <td>...</td>\n",
       "      <td>...</td>\n",
       "    </tr>\n",
       "    <tr>\n",
       "      <th>2155</th>\n",
       "      <td>7</td>\n",
       "      <td>8</td>\n",
       "      <td>0</td>\n",
       "      <td>3</td>\n",
       "      <td>0</td>\n",
       "      <td>11771</td>\n",
       "      <td>9</td>\n",
       "    </tr>\n",
       "    <tr>\n",
       "      <th>2156</th>\n",
       "      <td>17</td>\n",
       "      <td>19</td>\n",
       "      <td>0</td>\n",
       "      <td>3</td>\n",
       "      <td>0</td>\n",
       "      <td>11771</td>\n",
       "      <td>9</td>\n",
       "    </tr>\n",
       "    <tr>\n",
       "      <th>2157</th>\n",
       "      <td>20</td>\n",
       "      <td>22</td>\n",
       "      <td>0</td>\n",
       "      <td>3</td>\n",
       "      <td>0</td>\n",
       "      <td>11771</td>\n",
       "      <td>9</td>\n",
       "    </tr>\n",
       "    <tr>\n",
       "      <th>2158</th>\n",
       "      <td>10</td>\n",
       "      <td>15</td>\n",
       "      <td>0</td>\n",
       "      <td>3</td>\n",
       "      <td>0</td>\n",
       "      <td>14663</td>\n",
       "      <td>9</td>\n",
       "    </tr>\n",
       "    <tr>\n",
       "      <th>2159</th>\n",
       "      <td>9</td>\n",
       "      <td>16</td>\n",
       "      <td>0</td>\n",
       "      <td>1</td>\n",
       "      <td>0</td>\n",
       "      <td>17708</td>\n",
       "      <td>9</td>\n",
       "    </tr>\n",
       "  </tbody>\n",
       "</table>\n",
       "<p>1723 rows × 7 columns</p>\n",
       "</div>"
      ],
      "text/plain": [
       "      Departure_time  Arrival_time  Arrival_city  Airline  Stops  Price  Day\n",
       "0                  6             8             5        1      2   4482    1\n",
       "1                 15            16             5        3      2   4688    1\n",
       "2                  8            10             5        3      2   4688    1\n",
       "3                  6             8             5        3      2   4688    1\n",
       "4                 12            14             5        3      2   4688    1\n",
       "...              ...           ...           ...      ...    ...    ...  ...\n",
       "2155               7             8             0        3      0  11771    9\n",
       "2156              17            19             0        3      0  11771    9\n",
       "2157              20            22             0        3      0  11771    9\n",
       "2158              10            15             0        3      0  14663    9\n",
       "2159               9            16             0        1      0  17708    9\n",
       "\n",
       "[1723 rows x 7 columns]"
      ]
     },
     "execution_count": 323,
     "metadata": {},
     "output_type": "execute_result"
    }
   ],
   "source": [
    "df1"
   ]
  },
  {
   "cell_type": "code",
   "execution_count": 324,
   "id": "7d8f8bf8",
   "metadata": {},
   "outputs": [],
   "source": [
    "#Splitting features and target\n",
    "X=df1[[\"Departure_time\",\"Arrival_time\",\"Arrival_city\",\"Airline\",\"Stops\",\"Day\"]]\n",
    "Y=df1[[\"Price\"]]"
   ]
  },
  {
   "cell_type": "code",
   "execution_count": 325,
   "id": "a496b6ef",
   "metadata": {},
   "outputs": [],
   "source": [
    "#Applying power transform\n",
    "from sklearn.preprocessing import PowerTransformer\n",
    "pt=PowerTransformer(method=\"yeo-johnson\")\n",
    "Xpt=pt.fit_transform(X)"
   ]
  },
  {
   "cell_type": "code",
   "execution_count": 326,
   "id": "4590d9d6",
   "metadata": {},
   "outputs": [],
   "source": [
    "#Scaling the data\n",
    "from sklearn.preprocessing import MinMaxScaler\n",
    "mm=MinMaxScaler()\n",
    "Xnew=mm.fit_transform(Xpt)"
   ]
  },
  {
   "cell_type": "code",
   "execution_count": 327,
   "id": "9b3562ca",
   "metadata": {},
   "outputs": [],
   "source": [
    "#Splitting data into Training and Testing Data\n",
    "#analysing the r2 score and variance score for different random state values\n",
    "\n",
    "from sklearn.model_selection import train_test_split\n",
    "\n",
    "from sklearn.linear_model import LinearRegression\n",
    "\n",
    "from sklearn.ensemble import RandomForestRegressor\n",
    "\n",
    "from sklearn.tree import DecisionTreeRegressor\n",
    "\n",
    "from sklearn.neighbors import KNeighborsRegressor\n",
    "\n",
    "from sklearn.svm import SVR\n",
    "\n",
    "from sklearn.ensemble import GradientBoostingRegressor\n",
    "\n",
    "from xgboost import XGBRegressor\n",
    "\n",
    "from sklearn.ensemble import AdaBoostRegressor\n",
    "\n",
    "from sklearn.metrics import r2_score,mean_absolute_error,mean_squared_error,max_error,explained_variance_score"
   ]
  },
  {
   "cell_type": "code",
   "execution_count": 328,
   "id": "d6dbaf5a",
   "metadata": {},
   "outputs": [],
   "source": [
    "lr=LinearRegression()\n",
    "\n",
    "dt=DecisionTreeRegressor()\n",
    "\n",
    "rf=RandomForestRegressor()\n",
    "\n",
    "kn=KNeighborsRegressor(n_neighbors=3)\n",
    "\n",
    "sv=SVR()\n",
    "\n",
    "gb=GradientBoostingRegressor()\n",
    "\n",
    "x=XGBRegressor()\n",
    "\n",
    "ab=AdaBoostRegressor()\n",
    "\n",
    "lst=[lr,dt,rf,kn,sv,gb,x,ab]"
   ]
  },
  {
   "cell_type": "code",
   "execution_count": 331,
   "id": "1fd6dce4",
   "metadata": {},
   "outputs": [
    {
     "name": "stdout",
     "output_type": "stream",
     "text": [
      "Model: LinearRegression() random state 0 has r2 score-test 0.45 and r2 score -train 0.45 and explained variance is 0.45\n",
      "Model: LinearRegression() random state 1 has r2 score-test 0.45 and r2 score -train 0.45 and explained variance is 0.46\n",
      "Model: LinearRegression() random state 2 has r2 score-test 0.49 and r2 score -train 0.43 and explained variance is 0.49\n",
      "Model: LinearRegression() random state 3 has r2 score-test 0.47 and r2 score -train 0.44 and explained variance is 0.47\n",
      "Model: LinearRegression() random state 4 has r2 score-test 0.45 and r2 score -train 0.45 and explained variance is 0.45\n",
      "Model: DecisionTreeRegressor() random state 0 has r2 score-test 0.9 and r2 score -train 1.0 and explained variance is 0.9\n",
      "Model: DecisionTreeRegressor() random state 1 has r2 score-test 0.91 and r2 score -train 1.0 and explained variance is 0.91\n",
      "Model: DecisionTreeRegressor() random state 2 has r2 score-test 0.93 and r2 score -train 1.0 and explained variance is 0.93\n",
      "Model: DecisionTreeRegressor() random state 3 has r2 score-test 0.9 and r2 score -train 1.0 and explained variance is 0.9\n",
      "Model: DecisionTreeRegressor() random state 4 has r2 score-test 0.92 and r2 score -train 1.0 and explained variance is 0.92\n",
      "Model: RandomForestRegressor() random state 0 has r2 score-test 0.93 and r2 score -train 0.99 and explained variance is 0.93\n",
      "Model: RandomForestRegressor() random state 1 has r2 score-test 0.94 and r2 score -train 0.99 and explained variance is 0.94\n",
      "Model: RandomForestRegressor() random state 2 has r2 score-test 0.95 and r2 score -train 0.99 and explained variance is 0.95\n",
      "Model: RandomForestRegressor() random state 3 has r2 score-test 0.92 and r2 score -train 0.99 and explained variance is 0.92\n",
      "Model: RandomForestRegressor() random state 4 has r2 score-test 0.93 and r2 score -train 0.99 and explained variance is 0.93\n",
      "Model: KNeighborsRegressor(n_neighbors=3) random state 0 has r2 score-test 0.62 and r2 score -train 0.87 and explained variance is 0.62\n",
      "Model: KNeighborsRegressor(n_neighbors=3) random state 1 has r2 score-test 0.74 and r2 score -train 0.87 and explained variance is 0.74\n",
      "Model: KNeighborsRegressor(n_neighbors=3) random state 2 has r2 score-test 0.76 and r2 score -train 0.85 and explained variance is 0.76\n",
      "Model: KNeighborsRegressor(n_neighbors=3) random state 3 has r2 score-test 0.7 and r2 score -train 0.86 and explained variance is 0.7\n",
      "Model: KNeighborsRegressor(n_neighbors=3) random state 4 has r2 score-test 0.75 and r2 score -train 0.84 and explained variance is 0.75\n",
      "Model: SVR() random state 0 has r2 score-test 0.03 and r2 score -train 0.04 and explained variance is 0.04\n",
      "Model: SVR() random state 1 has r2 score-test 0.04 and r2 score -train 0.04 and explained variance is 0.04\n",
      "Model: SVR() random state 2 has r2 score-test 0.03 and r2 score -train 0.04 and explained variance is 0.04\n",
      "Model: SVR() random state 3 has r2 score-test 0.04 and r2 score -train 0.04 and explained variance is 0.04\n",
      "Model: SVR() random state 4 has r2 score-test 0.04 and r2 score -train 0.04 and explained variance is 0.04\n",
      "Model: GradientBoostingRegressor() random state 0 has r2 score-test 0.85 and r2 score -train 0.88 and explained variance is 0.85\n",
      "Model: GradientBoostingRegressor() random state 1 has r2 score-test 0.85 and r2 score -train 0.88 and explained variance is 0.85\n",
      "Model: GradientBoostingRegressor() random state 2 has r2 score-test 0.87 and r2 score -train 0.87 and explained variance is 0.87\n",
      "Model: GradientBoostingRegressor() random state 3 has r2 score-test 0.82 and r2 score -train 0.89 and explained variance is 0.82\n",
      "Model: GradientBoostingRegressor() random state 4 has r2 score-test 0.86 and r2 score -train 0.87 and explained variance is 0.86\n",
      "Model: XGBRegressor(base_score=0.5, booster='gbtree', callbacks=None,\n",
      "             colsample_bylevel=1, colsample_bynode=1, colsample_bytree=1,\n",
      "             early_stopping_rounds=None, enable_categorical=False,\n",
      "             eval_metric=None, gamma=0, gpu_id=-1, grow_policy='depthwise',\n",
      "             importance_type=None, interaction_constraints='',\n",
      "             learning_rate=0.300000012, max_bin=256, max_cat_to_onehot=4,\n",
      "             max_delta_step=0, max_depth=6, max_leaves=0, min_child_weight=1,\n",
      "             missing=nan, monotone_constraints='()', n_estimators=100, n_jobs=0,\n",
      "             num_parallel_tree=1, predictor='auto', random_state=0, reg_alpha=0,\n",
      "             reg_lambda=1, ...) random state 0 has r2 score-test 0.93 and r2 score -train 0.99 and explained variance is 0.93\n",
      "Model: XGBRegressor(base_score=0.5, booster='gbtree', callbacks=None,\n",
      "             colsample_bylevel=1, colsample_bynode=1, colsample_bytree=1,\n",
      "             early_stopping_rounds=None, enable_categorical=False,\n",
      "             eval_metric=None, gamma=0, gpu_id=-1, grow_policy='depthwise',\n",
      "             importance_type=None, interaction_constraints='',\n",
      "             learning_rate=0.300000012, max_bin=256, max_cat_to_onehot=4,\n",
      "             max_delta_step=0, max_depth=6, max_leaves=0, min_child_weight=1,\n",
      "             missing=nan, monotone_constraints='()', n_estimators=100, n_jobs=0,\n",
      "             num_parallel_tree=1, predictor='auto', random_state=0, reg_alpha=0,\n",
      "             reg_lambda=1, ...) random state 1 has r2 score-test 0.94 and r2 score -train 1.0 and explained variance is 0.94\n",
      "Model: XGBRegressor(base_score=0.5, booster='gbtree', callbacks=None,\n",
      "             colsample_bylevel=1, colsample_bynode=1, colsample_bytree=1,\n",
      "             early_stopping_rounds=None, enable_categorical=False,\n",
      "             eval_metric=None, gamma=0, gpu_id=-1, grow_policy='depthwise',\n",
      "             importance_type=None, interaction_constraints='',\n",
      "             learning_rate=0.300000012, max_bin=256, max_cat_to_onehot=4,\n",
      "             max_delta_step=0, max_depth=6, max_leaves=0, min_child_weight=1,\n",
      "             missing=nan, monotone_constraints='()', n_estimators=100, n_jobs=0,\n",
      "             num_parallel_tree=1, predictor='auto', random_state=0, reg_alpha=0,\n",
      "             reg_lambda=1, ...) random state 2 has r2 score-test 0.95 and r2 score -train 0.99 and explained variance is 0.95\n",
      "Model: XGBRegressor(base_score=0.5, booster='gbtree', callbacks=None,\n",
      "             colsample_bylevel=1, colsample_bynode=1, colsample_bytree=1,\n",
      "             early_stopping_rounds=None, enable_categorical=False,\n",
      "             eval_metric=None, gamma=0, gpu_id=-1, grow_policy='depthwise',\n",
      "             importance_type=None, interaction_constraints='',\n",
      "             learning_rate=0.300000012, max_bin=256, max_cat_to_onehot=4,\n",
      "             max_delta_step=0, max_depth=6, max_leaves=0, min_child_weight=1,\n",
      "             missing=nan, monotone_constraints='()', n_estimators=100, n_jobs=0,\n",
      "             num_parallel_tree=1, predictor='auto', random_state=0, reg_alpha=0,\n",
      "             reg_lambda=1, ...) random state 3 has r2 score-test 0.91 and r2 score -train 0.99 and explained variance is 0.91\n",
      "Model: XGBRegressor(base_score=0.5, booster='gbtree', callbacks=None,\n",
      "             colsample_bylevel=1, colsample_bynode=1, colsample_bytree=1,\n",
      "             early_stopping_rounds=None, enable_categorical=False,\n",
      "             eval_metric=None, gamma=0, gpu_id=-1, grow_policy='depthwise',\n",
      "             importance_type=None, interaction_constraints='',\n",
      "             learning_rate=0.300000012, max_bin=256, max_cat_to_onehot=4,\n",
      "             max_delta_step=0, max_depth=6, max_leaves=0, min_child_weight=1,\n",
      "             missing=nan, monotone_constraints='()', n_estimators=100, n_jobs=0,\n",
      "             num_parallel_tree=1, predictor='auto', random_state=0, reg_alpha=0,\n",
      "             reg_lambda=1, ...) random state 4 has r2 score-test 0.92 and r2 score -train 1.0 and explained variance is 0.92\n",
      "Model: AdaBoostRegressor() random state 0 has r2 score-test 0.66 and r2 score -train 0.66 and explained variance is 0.66\n",
      "Model: AdaBoostRegressor() random state 1 has r2 score-test 0.57 and r2 score -train 0.59 and explained variance is 0.59\n",
      "Model: AdaBoostRegressor() random state 2 has r2 score-test 0.62 and r2 score -train 0.58 and explained variance is 0.64\n",
      "Model: AdaBoostRegressor() random state 3 has r2 score-test 0.57 and r2 score -train 0.62 and explained variance is 0.58\n",
      "Model: AdaBoostRegressor() random state 4 has r2 score-test 0.55 and r2 score -train 0.57 and explained variance is 0.59\n"
     ]
    }
   ],
   "source": [
    "for i1 in lst:\n",
    "    for i2 in range(0,5):\n",
    "        x_train,x_test,y_train,y_test=train_test_split(Xnew,Y,random_state=i2,test_size=0.25)\n",
    "        i1.fit(x_train,y_train)\n",
    "        pred_test=i1.predict(x_test)\n",
    "        pred_train=i1.predict(x_train)     \n",
    "        print(\"Model:\",i1,\"random state\",i2,\"has r2 score-test\",round(r2_score(y_test,pred_test),2),\"and r2 score -train\",round(r2_score(y_train,pred_train),2),\"and explained variance is\",round(explained_variance_score(y_test,pred_test),2))\n",
    "\n",
    "#From the below results, the Random Forest Regressor for random-state 2 has the best result compared to other models."
   ]
  },
  {
   "cell_type": "code",
   "execution_count": 465,
   "id": "80dd2c84",
   "metadata": {},
   "outputs": [],
   "source": [
    "x_train,x_test,y_train,y_test=train_test_split(Xnew,Y,random_state=2,test_size=0.25)"
   ]
  },
  {
   "cell_type": "markdown",
   "id": "7e0a8def",
   "metadata": {},
   "source": [
    "# Random Forest Regressor"
   ]
  },
  {
   "cell_type": "code",
   "execution_count": 466,
   "id": "c158ef0a",
   "metadata": {},
   "outputs": [],
   "source": [
    "m1=rf.fit(x_train,y_train)\n",
    "pred_train=m1.predict(x_train)\n",
    "pred_test=m1.predict(x_test)"
   ]
  },
  {
   "cell_type": "code",
   "execution_count": 467,
   "id": "38689a18",
   "metadata": {},
   "outputs": [
    {
     "name": "stdout",
     "output_type": "stream",
     "text": [
      "0.99\n"
     ]
    }
   ],
   "source": [
    "print(round(r2_score(y_train,pred_train),2))"
   ]
  },
  {
   "cell_type": "code",
   "execution_count": 468,
   "id": "72627b7f",
   "metadata": {},
   "outputs": [
    {
     "name": "stdout",
     "output_type": "stream",
     "text": [
      "0.95\n"
     ]
    }
   ],
   "source": [
    "print(round(r2_score(y_test,pred_test),2))"
   ]
  },
  {
   "cell_type": "code",
   "execution_count": 469,
   "id": "a578e35d",
   "metadata": {},
   "outputs": [
    {
     "name": "stdout",
     "output_type": "stream",
     "text": [
      "0.99\n"
     ]
    }
   ],
   "source": [
    "print(round(explained_variance_score(y_train,pred_train),2))"
   ]
  },
  {
   "cell_type": "code",
   "execution_count": 470,
   "id": "9c18a380",
   "metadata": {},
   "outputs": [
    {
     "name": "stdout",
     "output_type": "stream",
     "text": [
      "0.95\n"
     ]
    }
   ],
   "source": [
    "print(round(explained_variance_score(y_test,pred_test),2))"
   ]
  },
  {
   "cell_type": "code",
   "execution_count": 471,
   "id": "f6f82da2",
   "metadata": {},
   "outputs": [
    {
     "data": {
      "text/plain": [
       "<matplotlib.collections.PathCollection at 0x24f461559d0>"
      ]
     },
     "execution_count": 471,
     "metadata": {},
     "output_type": "execute_result"
    },
    {
     "data": {
      "image/png": "[encoded data removed]",
      "text/plain": [
       "<Figure size 432x288 with 1 Axes>"
      ]
     },
     "metadata": {
      "needs_background": "light"
     },
     "output_type": "display_data"
    }
   ],
   "source": [
    "plt.scatter(x=y_test,y=pred_test)"
   ]
  },
  {
   "cell_type": "code",
   "execution_count": 472,
   "id": "afadebc0",
   "metadata": {},
   "outputs": [
    {
     "data": {
      "text/plain": [
       "0.9326246360744099"
      ]
     },
     "execution_count": 472,
     "metadata": {},
     "output_type": "execute_result"
    }
   ],
   "source": [
    "from sklearn.model_selection import KFold\n",
    "from sklearn.model_selection import cross_val_score\n",
    "\n",
    "cv=KFold(n_splits=10, random_state=1, shuffle=True)\n",
    "cv1=cross_val_score(m1,Xnew,Y,cv=cv)\n",
    "score1=cv1.mean()\n",
    "score1"
   ]
  },
  {
   "cell_type": "markdown",
   "id": "b1d2bf50",
   "metadata": {},
   "source": [
    "Random Forest model has an R2 score of 0.95 and variance score of 0.95 and cross-validation score is 0.93"
   ]
  },
  {
   "cell_type": "markdown",
   "id": "a3562101",
   "metadata": {},
   "source": [
    "# Decision Tree Regressor"
   ]
  },
  {
   "cell_type": "code",
   "execution_count": 387,
   "id": "c351abe3",
   "metadata": {},
   "outputs": [],
   "source": [
    "dt= DecisionTreeRegressor()\n",
    "m2=dt.fit(x_train,y_train)\n",
    "# apply the model to the test and training data\n",
    "pred_test=m2.predict(x_test)\n",
    "pred_train=m2.predict(x_train)"
   ]
  },
  {
   "cell_type": "code",
   "execution_count": 388,
   "id": "a910d808",
   "metadata": {},
   "outputs": [
    {
     "name": "stdout",
     "output_type": "stream",
     "text": [
      "1.0\n"
     ]
    }
   ],
   "source": [
    "print(round(r2_score(y_train,pred_train),2))"
   ]
  },
  {
   "cell_type": "code",
   "execution_count": 389,
   "id": "dd010e6f",
   "metadata": {},
   "outputs": [
    {
     "name": "stdout",
     "output_type": "stream",
     "text": [
      "0.93\n"
     ]
    }
   ],
   "source": [
    "print(round(r2_score(y_test,pred_test),2))"
   ]
  },
  {
   "cell_type": "code",
   "execution_count": 390,
   "id": "e11efa44",
   "metadata": {},
   "outputs": [
    {
     "name": "stdout",
     "output_type": "stream",
     "text": [
      "1.0\n"
     ]
    }
   ],
   "source": [
    "print(round(explained_variance_score(y_train,pred_train),2))"
   ]
  },
  {
   "cell_type": "code",
   "execution_count": 391,
   "id": "5938bb8e",
   "metadata": {},
   "outputs": [
    {
     "name": "stdout",
     "output_type": "stream",
     "text": [
      "0.93\n"
     ]
    }
   ],
   "source": [
    "print(round(explained_variance_score(y_test,pred_test),2))"
   ]
  },
  {
   "cell_type": "code",
   "execution_count": 392,
   "id": "d56c00c6",
   "metadata": {},
   "outputs": [
    {
     "data": {
      "text/plain": [
       "<matplotlib.collections.PathCollection at 0x24f3c1a4c40>"
      ]
     },
     "execution_count": 392,
     "metadata": {},
     "output_type": "execute_result"
    },
    {
     "data": {
      "image/png": "[encoded data removed]",
      "text/plain": [
       "<Figure size 432x288 with 1 Axes>"
      ]
     },
     "metadata": {
      "needs_background": "light"
     },
     "output_type": "display_data"
    }
   ],
   "source": [
    "plt.scatter(x=y_test,y=pred_test)"
   ]
  },
  {
   "cell_type": "code",
   "execution_count": 393,
   "id": "c5ebb4bc",
   "metadata": {},
   "outputs": [
    {
     "data": {
      "text/plain": [
       "0.9002094109369306"
      ]
     },
     "execution_count": 393,
     "metadata": {},
     "output_type": "execute_result"
    }
   ],
   "source": [
    "from sklearn.model_selection import KFold\n",
    "from sklearn.model_selection import cross_val_score\n",
    "\n",
    "cv=KFold(n_splits=10, random_state=1, shuffle=True)\n",
    "cv1=cross_val_score(m2,Xnew,Y,cv=cv)\n",
    "score1=cv1.mean()\n",
    "score1"
   ]
  },
  {
   "cell_type": "markdown",
   "id": "8e448c4c",
   "metadata": {},
   "source": [
    "Decision Tree model has an R2 score of 0.93 and variance score of 0.93 and cross-validation score is 0.9"
   ]
  },
  {
   "cell_type": "markdown",
   "id": "b3288e38",
   "metadata": {},
   "source": [
    "# From the above results the random forest model is an efficient model and hyperparameter tuning is performed on the model"
   ]
  },
  {
   "cell_type": "markdown",
   "id": "8932b3a1",
   "metadata": {},
   "source": [
    "# Hyperparameter Tuning"
   ]
  },
  {
   "cell_type": "code",
   "execution_count": 473,
   "id": "5bd6156e",
   "metadata": {},
   "outputs": [],
   "source": [
    "from sklearn.model_selection import RandomizedSearchCV"
   ]
  },
  {
   "cell_type": "code",
   "execution_count": 474,
   "id": "99f2b6c7",
   "metadata": {},
   "outputs": [],
   "source": [
    "rf=RandomForestRegressor()"
   ]
  },
  {
   "cell_type": "code",
   "execution_count": 486,
   "id": "ca74b475",
   "metadata": {},
   "outputs": [
    {
     "data": {
      "text/plain": [
       "{'bootstrap': True,\n",
       " 'ccp_alpha': 0.0,\n",
       " 'criterion': 'squared_error',\n",
       " 'max_depth': None,\n",
       " 'max_features': 'auto',\n",
       " 'max_leaf_nodes': None,\n",
       " 'max_samples': None,\n",
       " 'min_impurity_decrease': 0.0,\n",
       " 'min_samples_leaf': 1,\n",
       " 'min_samples_split': 2,\n",
       " 'min_weight_fraction_leaf': 0.0,\n",
       " 'n_estimators': 100,\n",
       " 'n_jobs': None,\n",
       " 'oob_score': False,\n",
       " 'random_state': None,\n",
       " 'verbose': 0,\n",
       " 'warm_start': False}"
      ]
     },
     "execution_count": 486,
     "metadata": {},
     "output_type": "execute_result"
    }
   ],
   "source": [
    "rf.get_params()"
   ]
  },
  {
   "cell_type": "code",
   "execution_count": 498,
   "id": "70e7e3f8",
   "metadata": {},
   "outputs": [],
   "source": [
    "param_dist={\"criterion\": [\"squared_error\",\"absolute_error\",\"friedman_mse\",\"poisson\"],'ccp_alpha':[0.0,0.1,0.2,0.3],'n_estimators':[60,70,80,90,100]}"
   ]
  },
  {
   "cell_type": "code",
   "execution_count": 555,
   "id": "636ba636",
   "metadata": {},
   "outputs": [],
   "source": [
    "samples=7  # number of random samples \n",
    "randomCV=RandomizedSearchCV(rf, param_distributions=param_dist, n_iter=samples,cv=6)"
   ]
  },
  {
   "cell_type": "code",
   "execution_count": 556,
   "id": "7ab08fe3",
   "metadata": {},
   "outputs": [],
   "source": [
    "final=randomCV.fit(x_train,y_train)"
   ]
  },
  {
   "cell_type": "code",
   "execution_count": 557,
   "id": "e0e484cd",
   "metadata": {
    "scrolled": true
   },
   "outputs": [
    {
     "data": {
      "text/plain": [
       "{'n_estimators': 90, 'criterion': 'friedman_mse', 'ccp_alpha': 0.1}"
      ]
     },
     "execution_count": 557,
     "metadata": {},
     "output_type": "execute_result"
    }
   ],
   "source": [
    "final.best_params_"
   ]
  },
  {
   "cell_type": "code",
   "execution_count": 558,
   "id": "0306689f",
   "metadata": {},
   "outputs": [],
   "source": [
    "pred1=final.predict(x_test)"
   ]
  },
  {
   "cell_type": "code",
   "execution_count": 559,
   "id": "5ac5a81c",
   "metadata": {},
   "outputs": [],
   "source": [
    "pred2=final.predict(x_train)"
   ]
  },
  {
   "cell_type": "code",
   "execution_count": 560,
   "id": "2020ca56",
   "metadata": {},
   "outputs": [
    {
     "name": "stdout",
     "output_type": "stream",
     "text": [
      "99.0\n"
     ]
    }
   ],
   "source": [
    "print(round(r2_score(y_train,pred2),2)*100)"
   ]
  },
  {
   "cell_type": "code",
   "execution_count": 561,
   "id": "4c918df4",
   "metadata": {},
   "outputs": [
    {
     "name": "stdout",
     "output_type": "stream",
     "text": [
      "95.0\n"
     ]
    }
   ],
   "source": [
    "print(round(r2_score(y_test,pred1),2)*100)"
   ]
  },
  {
   "cell_type": "code",
   "execution_count": 562,
   "id": "6f742abf",
   "metadata": {},
   "outputs": [
    {
     "name": "stdout",
     "output_type": "stream",
     "text": [
      "0.99\n"
     ]
    }
   ],
   "source": [
    "print(round(explained_variance_score(y_train,pred_train),2))"
   ]
  },
  {
   "cell_type": "code",
   "execution_count": 563,
   "id": "7ff244e2",
   "metadata": {},
   "outputs": [
    {
     "name": "stdout",
     "output_type": "stream",
     "text": [
      "0.95\n"
     ]
    }
   ],
   "source": [
    "print(round(explained_variance_score(y_test,pred_test),2))"
   ]
  },
  {
   "cell_type": "code",
   "execution_count": 564,
   "id": "2f8e28a4",
   "metadata": {},
   "outputs": [
    {
     "data": {
      "text/plain": [
       "<matplotlib.collections.PathCollection at 0x24f47359f70>"
      ]
     },
     "execution_count": 564,
     "metadata": {},
     "output_type": "execute_result"
    },
    {
     "data": {
      "image/png": "[encoded data removed]",
      "text/plain": [
       "<Figure size 432x288 with 1 Axes>"
      ]
     },
     "metadata": {
      "needs_background": "light"
     },
     "output_type": "display_data"
    }
   ],
   "source": [
    "plt.scatter(x=y_test,y=pred1)"
   ]
  },
  {
   "cell_type": "markdown",
   "id": "d6e0db1e",
   "metadata": {},
   "source": [
    "# Saving the model"
   ]
  },
  {
   "cell_type": "code",
   "execution_count": 332,
   "id": "abe4f4f4",
   "metadata": {},
   "outputs": [],
   "source": [
    "import pickle\n",
    "pickle.dump(final, open('Expedia-model', 'wb'))"
   ]
  },
  {
   "cell_type": "code",
   "execution_count": 333,
   "id": "7210b291",
   "metadata": {},
   "outputs": [
    {
     "data": {
      "text/plain": [
       "array([ 5354.22      ,  5979.22      , 14020.5       ,  5991.53      ,\n",
       "        6984.1       ,  9694.48      ,  7470.98066667,  7452.61      ,\n",
       "        5500.7       , 13641.57333333, 10290.91      ,  5180.53      ,\n",
       "       13630.57916667, 10453.57      , 10218.36      ,  5346.84      ,\n",
       "        4688.45      ,  7178.15828571,  5493.19      , 14546.84      ,\n",
       "        9488.34      , 10274.        , 10210.4       ,  4688.        ,\n",
       "        7865.94      ,  5621.5       , 13404.44442857, 13162.        ,\n",
       "        4083.95      , 13490.21166667,  4852.56      , 14451.6       ,\n",
       "        8056.85      ,  5989.25      ,  9891.8       , 10234.1       ,\n",
       "        7567.70666667,  9010.18      ,  9694.48      ,  8739.51      ,\n",
       "        9802.        , 10626.56      , 14816.18      , 11901.09      ,\n",
       "        9802.        ,  5516.5       ,  5524.28      ,  8632.48      ,\n",
       "       14590.        , 13918.98      ,  6452.        , 10623.62      ,\n",
       "        5182.7       ,  5575.62      , 10813.77      ,  7174.01161905,\n",
       "       11761.31      , 14284.54      ,  6855.2       ,  4688.        ,\n",
       "        7913.1       ,  5218.54      ,  9076.17      ,  5994.        ,\n",
       "       13474.13083333,  7894.26      , 14234.64      ,  7861.24      ,\n",
       "       10198.56      ,  7887.83      , 11209.68      , 10274.        ,\n",
       "       11031.31      ,  5527.        , 10274.        ,  5245.88      ,\n",
       "       11093.        ,  9185.16      , 13060.88      , 12299.79      ,\n",
       "        9543.42      ,  6617.23      ,  5621.5       ,  6607.18      ,\n",
       "       13587.18      ,  4297.21      , 14230.86583333,  4688.        ,\n",
       "        6355.32      , 12518.57      ,  5682.15      , 14026.39166667,\n",
       "        5399.14      , 13645.56969048, 10807.97      , 14033.45      ,\n",
       "        9042.42      , 13389.06916667, 14402.00666667,  9031.2       ,\n",
       "        5177.        ,  7670.38      ,  6855.2       ,  5423.05      ,\n",
       "        9623.43      ,  4445.49      ,  7521.44      , 10277.15      ,\n",
       "       11990.06      , 11688.62      ,  9377.01      ,  8051.99      ,\n",
       "        4572.44      ,  4177.38      ,  5523.85      ,  6149.85      ,\n",
       "       10460.39      ,  9140.08966667,  6259.94      ,  5987.75      ,\n",
       "        9028.16      ,  5527.        , 10235.17      ,  8254.85      ,\n",
       "        8666.88      ,  9588.04      ,  4502.94      ,  6828.49      ,\n",
       "        9810.4       ,  8901.03      ,  5177.78      , 10299.1       ,\n",
       "        9016.39      ,  9804.255     ,  5157.15      , 14026.39166667,\n",
       "        5937.43      ,  5616.84      ,  5942.27      ,  4688.        ,\n",
       "        6986.        , 13121.91      ,  6855.2       ,  5937.43      ,\n",
       "        8197.32      , 14841.05      , 13392.50083333, 13366.475     ,\n",
       "        7642.97      ,  7742.38      ,  6400.17      , 10234.1       ,\n",
       "        9805.3825    ,  9329.        ,  7817.65      , 11761.31      ,\n",
       "       13571.48      ,  6855.2       , 13991.97      , 14451.6       ,\n",
       "        5760.94      , 13504.34814286, 10274.        , 13767.89      ,\n",
       "        5529.1       ,  8585.81      , 13922.97      ,  7687.94      ,\n",
       "        9151.56      ,  9014.88      ,  7020.15      , 14291.48      ,\n",
       "        6259.94      ,  9802.        , 10173.21      ,  8705.57      ,\n",
       "        6449.2       ,  5157.15      ,  5180.5       ,  5186.2       ,\n",
       "        9802.        , 10142.02      , 14511.96      ,  9876.19      ,\n",
       "        8076.82      , 14451.6       ,  9379.69      , 11360.63      ,\n",
       "       13570.14441667,  5527.        , 14855.5       , 13382.52916667,\n",
       "        5527.        ,  6603.05      , 13946.57      , 10234.1       ,\n",
       "       10246.18      , 11566.85      ,  7455.8       ,  6617.22      ,\n",
       "        9843.84916667,  9295.48      , 10015.06666667, 10507.24      ,\n",
       "        9210.82      ,  9195.        , 13216.3       ,  9383.69      ,\n",
       "       10794.3       ,  7745.6       , 13391.58583333,  4297.21      ,\n",
       "        5533.3       ,  5784.72      ,  9802.        , 11454.38      ,\n",
       "        5971.83      ,  9444.15141667,  7455.8       ,  9645.07      ,\n",
       "        9329.        , 12029.29      ,  5456.12      ,  8048.        ,\n",
       "        5934.12      ,  7807.83      , 13819.95383333, 15280.4       ,\n",
       "        8044.85      , 10190.74      ,  8632.48      , 11422.08      ,\n",
       "        6367.        ,  9555.24      , 10274.        ,  5341.79      ,\n",
       "        9888.17      ,  6621.37666667,  8205.69      ,  6452.        ,\n",
       "        5612.03      , 13588.71864286, 17417.125     , 10184.46      ,\n",
       "        7766.        ,  6367.        , 15227.39      , 10362.81      ,\n",
       "        5321.51      ,  4844.78      ,  8685.82      ,  6565.44      ,\n",
       "        5150.46      , 14002.18      ,  5994.        ,  9814.63      ,\n",
       "        7232.85      , 13012.13316667,  7756.56      , 13406.60583333,\n",
       "       13955.82916667, 10448.8       , 13996.88466667, 13828.04516667,\n",
       "       14587.26      , 10144.11      ,  4491.01      ,  6774.62      ,\n",
       "        7178.15828571,  5182.7       ,  5188.4       ,  6452.        ,\n",
       "        5431.44      ,  6452.        , 13956.96      , 10246.18      ,\n",
       "       14590.        ,  9802.        ,  6903.15333333,  6452.        ,\n",
       "        9313.59      , 10336.87      ,  5623.94      ,  6407.32      ,\n",
       "        6076.18333333,  8266.05      ,  5978.4       , 13098.07333333,\n",
       "        4688.        , 10888.71      ,  5747.        ,  9802.        ,\n",
       "        4688.        , 14590.        , 13617.68133333,  8025.99      ,\n",
       "        5994.        , 13232.875     ,  8981.72      , 12847.        ,\n",
       "       13578.19666667, 11603.3       ,  5466.56      ,  7625.78733333,\n",
       "       14275.        , 13794.96733333,  9802.        ,  9856.75916667,\n",
       "        5177.1       , 13817.22180952,  5969.89      , 15118.52      ,\n",
       "        7567.70666667,  5812.92      ,  5425.1       , 10497.12      ,\n",
       "       14028.67      ,  5994.        ,  4688.        , 11343.94      ,\n",
       "        9830.86      ,  6798.1       ,  5590.63      ,  9357.56258333,\n",
       "        9802.        ,  7438.        ,  7015.        ,  9802.        ,\n",
       "        9832.44      ,  6367.        , 12803.50333333,  9118.55      ,\n",
       "       14324.44      ,  8363.925     ,  8626.74      ,  9185.16      ,\n",
       "        4692.89      , 10384.        , 14139.31380952, 13861.007     ,\n",
       "       10622.04      ,  4926.        ,  4856.27      ,  4688.        ,\n",
       "        5594.67      ,  7192.84      , 10380.93      , 13232.5035    ,\n",
       "        6456.2       ,  9659.83      ,  9185.16      ,  6626.86933333,\n",
       "        5330.        ,  9802.        , 10005.1       , 12325.91      ,\n",
       "       10631.52      ,  9837.51733333,  4740.5       ,  5375.06      ,\n",
       "       11719.96      , 13661.27933333, 10274.        ,  8992.58      ,\n",
       "       11882.        ,  9880.7       ,  6903.5       , 13500.93766667,\n",
       "        6367.        , 13649.91      ,  8785.        ,  9501.92      ,\n",
       "        7897.32      , 14590.        , 10031.89      ,  7756.56      ,\n",
       "       14045.81166667,  7713.05      ,  5532.25      ,  5426.2       ,\n",
       "        8044.85      ,  7174.01161905,  5580.54      , 14555.12      ,\n",
       "        5330.54      ,  6367.        ,  9802.        ,  4105.        ,\n",
       "        6367.        , 12826.25      ,  7000.3       ,  5530.29      ,\n",
       "       13004.97083333, 13652.41      ,  5784.72      ,  6367.        ,\n",
       "       14234.2025    ,  9804.706     , 13437.77416667,  5852.99      ,\n",
       "        5456.09      , 10587.3       , 12863.67      ,  5373.88      ,\n",
       "       12559.63      , 14590.        ,  9018.81066667, 11863.62      ,\n",
       "       14378.93625   , 14605.49      ,  5792.37      ,  4733.48      ,\n",
       "       13654.156     ,  9946.56      ,  5802.33      , 13891.04816667,\n",
       "        9348.95      , 10452.79666667, 10632.02      ,  9006.55      ,\n",
       "        5527.        ,  9153.48      ,  7435.06      , 10244.19      ,\n",
       "        8044.85      ,  4712.48      ,  8356.2       ,  6626.86933333,\n",
       "       13570.14441667,  9888.17      ,  5991.53      ])"
      ]
     },
     "execution_count": 333,
     "metadata": {},
     "output_type": "execute_result"
    }
   ],
   "source": [
    "pickled_model=pickle.load(open('Expedia-model', 'rb'))\n",
    "pickled_model.predict(x_test)"
   ]
  },
  {
   "cell_type": "code",
   "execution_count": null,
   "id": "dac673f1",
   "metadata": {},
   "outputs": [],
   "source": []
  }
 ],
 "metadata": {
  "kernelspec": {
   "display_name": "Python 3 (ipykernel)",
   "language": "python",
   "name": "python3"
  },
  "language_info": {
   "codemirror_mode": {
    "name": "ipython",
    "version": 3
   },
   "file_extension": ".py",
   "mimetype": "text/x-python",
   "name": "python",
   "nbconvert_exporter": "python",
   "pygments_lexer": "ipython3",
   "version": "3.9.12"
  }
 },
 "nbformat": 4,
 "nbformat_minor": 5
}
