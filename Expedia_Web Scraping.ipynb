{
 "cells": [
  {
   "cell_type": "markdown",
   "id": "2aaf1a56",
   "metadata": {},
   "source": [
    "# Flight Price Prediction Project"
   ]
  },
  {
   "cell_type": "markdown",
   "id": "bc815772",
   "metadata": {},
   "source": [
    "##### Part 1- Data Collection"
   ]
  },
  {
   "cell_type": "code",
   "execution_count": 1,
   "id": "64528047",
   "metadata": {},
   "outputs": [],
   "source": [
    "#Importing the neccessary libraries\n",
    "from selenium import webdriver\n",
    "from selenium.webdriver.common.by import By\n",
    "from selenium.webdriver.common.keys import Keys\n",
    "from webdriver_manager.chrome import ChromeDriverManager"
   ]
  },
  {
   "cell_type": "code",
   "execution_count": 2,
   "id": "6afc3e6b",
   "metadata": {},
   "outputs": [],
   "source": [
    "import pandas as pd\n",
    "import time\n",
    "import datetime\n",
    "import smtplib\n",
    "from email.mime.multipart import MIMEMultipart"
   ]
  },
  {
   "cell_type": "code",
   "execution_count": 36,
   "id": "31a9d041",
   "metadata": {},
   "outputs": [
    {
     "name": "stderr",
     "output_type": "stream",
     "text": [
      "C:\\Users\\vaish\\AppData\\Local\\Temp\\ipykernel_252\\2821805735.py:3: DeprecationWarning: executable_path has been deprecated, please pass in a Service object\n",
      "  driver=webdriver.Chrome(ChromeDriverManager().install())\n"
     ]
    }
   ],
   "source": [
    "#Connecting to the driver\n",
    "\n",
    "driver=webdriver.Chrome(ChromeDriverManager().install())"
   ]
  },
  {
   "cell_type": "code",
   "execution_count": 27,
   "id": "a5f7b9f3",
   "metadata": {},
   "outputs": [],
   "source": [
    "#Setting ticket types paths\n",
    "return_ticket=\"//a[@aria-controls='wizard-flight-tab-roundtrip']\"\n",
    "one_way_ticket=\"//a[@aria-controls='wizard-flight-tab-oneway']\"\n",
    "multi_ticket=\"//a[@aria-controls='wizard-flight-tab-multicity']\"\n"
   ]
  },
  {
   "cell_type": "code",
   "execution_count": 28,
   "id": "0114d55d",
   "metadata": {},
   "outputs": [],
   "source": [
    "#defining function to select the type of ticket\n",
    "def ticket_chooser(ticket):\n",
    "    try:\n",
    "        ticket_type=driver.find_element(By.XPATH,ticket)\n",
    "        ticket_type.click()\n",
    "    except Exception as e:\n",
    "        pass"
   ]
  },
  {
   "cell_type": "code",
   "execution_count": 29,
   "id": "e339205e",
   "metadata": {},
   "outputs": [],
   "source": [
    "#defining function to select the departure city\n",
    "def dep_country_chooser(dep_country):\n",
    "    fly_from=driver.find_element(By.XPATH,'//*[@id=\"wizard-flight-tab-oneway\"]/div[2]/div[1]/div/div[1]/div/div/div/div[1]')\n",
    "    fly_from.click()\n",
    "    spare=driver.find_element(By.XPATH,'//*[@id=\"location-field-leg1-origin\"]')\n",
    "    spare.send_keys(dep_country)\n",
    "    time.sleep(3)\n",
    "    first_item=driver.find_element(By.XPATH,'//li[@data-index=\"0\"]')\n",
    "    first_item.click()"
   ]
  },
  {
   "cell_type": "code",
   "execution_count": 30,
   "id": "b452b0a5",
   "metadata": {},
   "outputs": [],
   "source": [
    "#defining function to select the arrival city\n",
    "def arrival_country_chooser(arrival_country):\n",
    "    fly_to=driver.find_element(By.XPATH,'//*[@id=\"wizard-flight-tab-oneway\"]/div[2]/div[1]/div/div[2]/div/div/div/div[1]') \n",
    "    fly_to.click()\n",
    "    spare=driver.find_element(By.XPATH,'//*[@id=\"location-field-leg1-destination\"]')\n",
    "    spare.send_keys(arrival_country)\n",
    "    time.sleep(3)\n",
    "    first_item=driver.find_element(By.XPATH,'//li[@data-stid=\"location-field-leg1-destination-result-item\"][1]')\n",
    "    first_item.click()"
   ]
  },
  {
   "cell_type": "code",
   "execution_count": 31,
   "id": "ebc745c3",
   "metadata": {},
   "outputs": [],
   "source": [
    "#defining function to select departure date\n",
    "def dep_date_chooser(dep_date):\n",
    "    all_dates=[]\n",
    "    dep_date_button=driver.find_element(By.XPATH,'//button[@id=\"d1-btn\"]')\n",
    "    dep_date_button.click()\n",
    "    \n",
    "    all_dates=driver.find_elements(By.XPATH,\"//tbody//td//button[@class='uitk-date-picker-day']\")\n",
    "    for i in all_dates:\n",
    "        if i.get_attribute('aria-label')==dep_date:\n",
    "            i.click()\n",
    "        break\n",
    "    button=driver.find_element(By.XPATH,\"//button[@data-stid='apply-date-picker']\")\n",
    "    button.click()"
   ]
  },
  {
   "cell_type": "code",
   "execution_count": 32,
   "id": "8289687d",
   "metadata": {},
   "outputs": [],
   "source": [
    "#defining function to select the arrival date\n",
    "def return_date_chooser(ret_date):\n",
    "    return_date_button=driver.find_element(By.XPATH,\"//div[@class='uitk-layout-flex-item uitk-layout-flex-item-max-width-half_width uitk-layout-flex-item-flex-basis-zero uitk-layout-flex-item-flex-grow-1 uitk-date-field-wrapper'][2]\")\n",
    "    return_date_button.click()\n",
    "    all_dates=[]\n",
    "    \n",
    "    all_dates=driver.find_elements(By.XPATH,\"//tbody//td//button[@class='uitk-date-picker-day']\")\n",
    "    for i in all_dates:\n",
    "        if i.get_attribute('aria-label')==ret_date:\n",
    "            i.click()\n",
    "        break\n",
    "    button=driver.find_element(By.XPATH,\"//button[@data-stid='apply-date-picker']\")\n",
    "    button.click()\n",
    "    \n",
    "  "
   ]
  },
  {
   "cell_type": "code",
   "execution_count": 33,
   "id": "139e9571",
   "metadata": {},
   "outputs": [],
   "source": [
    "#Function to select the search button\n",
    "def search():\n",
    "    search=driver.find_element(By.XPATH,\"//button[@class='uitk-button uitk-button-large uitk-button-fullWidth uitk-button-has-text uitk-button-primary']\")\n",
    "    search.click()\n",
    "    time.sleep(15)\n",
    "    print('Results ready!')"
   ]
  },
  {
   "cell_type": "code",
   "execution_count": 34,
   "id": "1ad72fbf",
   "metadata": {},
   "outputs": [],
   "source": [
    "#Function to scrape flight ticket prices, departure-time, arrival time, airline and layover\n",
    "\n",
    "df=pd.DataFrame()\n",
    "def compile_data(date):\n",
    "    global dep_times_list\n",
    "    global arr_times_list\n",
    "    global airlines_list\n",
    "    global price_list\n",
    "    global layover\n",
    "    global layover_spare\n",
    "    global layover_list\n",
    "    global departure_city\n",
    "    global arrival_city\n",
    "    global total_time\n",
    "    global tot_cities\n",
    "    global spare4\n",
    "    global df\n",
    "    global date_list\n",
    "    \n",
    "    \n",
    "    time.sleep(5)\n",
    "    #Scraping price\n",
    "    a=driver.find_elements(By.XPATH,\"//span[@class='uitk-lockup-price']\")\n",
    "    price_list=[i.text for i in a]\n",
    "      \n",
    "    #Scraping airline name    \n",
    "    b=driver.find_elements(By.XPATH,\"//div[@data-test-id='flight-operated']\")\n",
    "    airlines_list=[i.text for i in b]\n",
    "    \n",
    "    #Scraping departure and arrival time\n",
    "    total_time=driver.find_elements(By.XPATH,\"//span[@data-test-id='departure-time']\")\n",
    "    total_time_list=[value.text for value in total_time]\n",
    "    spare1=[]\n",
    "    for i in total_time_list:\n",
    "        spare1.append(i.split(\"-\"))\n",
    "        \n",
    "    #departure times and arrival time\n",
    "    dep_times_list=[spare1[i][0] for i in range(len(spare1))]\n",
    "    arr_times_list=[spare1[i][1] for i in range(len(spare1))]\n",
    "    \n",
    "    \n",
    "    #scraping departure city and arrival city\n",
    "    tot_cities=driver.find_elements(By.XPATH,\"//div[@data-test-id='arrival-departure']\")\n",
    "    spare3=[]\n",
    "    spare3=[value.text for value in tot_cities]\n",
    "    spare4=[]\n",
    "    spare4=[value.split(\"-\") for value in spare3]\n",
    "    departure_city=[spare4[i][0] for i in range(len(spare4))]\n",
    "    arrival_city=[spare4[i][1] for i in range(len(spare4))]\n",
    "           \n",
    "    #Scraping layover list\n",
    "    e=driver.find_elements(By.XPATH,'//div[@data-test-id=\"journey-duration\"]')\n",
    "    spare5=[]\n",
    "    spare5=[value.text.split(\"(\") for value in e]\n",
    "    layover=[spare5[i][1] for i in range(len(spare5))]\n",
    "    layover_spare=[layover[i].split(\")\")  for i in range(len(layover))]\n",
    "    layover_list=[layover_spare[i][0] for i in range(len(layover_spare))]\n",
    "    \n",
    "    #Scraping date of journey\n",
    "    date_list=[date for i in range(len(price_list))]\n",
    "    \n",
    "    \n",
    "    \n",
    "    #creating data frame and exporting to csv format\n",
    "    df=pd.DataFrame({\"Departure_time\":dep_times_list,\"Arrival_time\":arr_times_list,\"Departure_city\":departure_city,\"Arrival_city\":arrival_city,\"Date_departure\":date_list,\"Airline\":airlines_list,\"Layover\":layover_list,\"Price\":price_list})\n",
    "    df.to_csv('expedia_5.csv', encoding='utf-8',header=False,mode='a')\n",
    "    header=False"
   ]
  },
  {
   "cell_type": "code",
   "execution_count": 39,
   "id": "c0ef2f09",
   "metadata": {
    "scrolled": true
   },
   "outputs": [
    {
     "name": "stdout",
     "output_type": "stream",
     "text": [
      "Results ready!\n",
      "Results ready!\n",
      "Results ready!\n",
      "Results ready!\n",
      "Results ready!\n",
      "Results ready!\n",
      "Results ready!\n",
      "Results ready!\n",
      "Results ready!\n",
      "Results ready!\n",
      "Results ready!\n",
      "Results ready!\n",
      "Results ready!\n",
      "Results ready!\n",
      "Results ready!\n",
      "Results ready!\n",
      "Results ready!\n",
      "Results ready!\n",
      "Results ready!\n",
      "Results ready!\n",
      "Results ready!\n",
      "Results ready!\n",
      "Results ready!\n",
      "Results ready!\n",
      "Results ready!\n",
      "Results ready!\n",
      "Results ready!\n",
      "Results ready!\n",
      "Results ready!\n",
      "Results ready!\n",
      "Results ready!\n",
      "Results ready!\n",
      "Results ready!\n",
      "Results ready!\n",
      "Results ready!\n",
      "Results ready!\n",
      "Results ready!\n",
      "Results ready!\n",
      "Results ready!\n",
      "Results ready!\n",
      "Results ready!\n",
      "Results ready!\n",
      "Results ready!\n",
      "Results ready!\n",
      "Results ready!\n",
      "Results ready!\n",
      "Results ready!\n",
      "Results ready!\n",
      "Results ready!\n",
      "Results ready!\n",
      "Results ready!\n",
      "Results ready!\n",
      "Results ready!\n",
      "Results ready!\n",
      "Results ready!\n",
      "Results ready!\n",
      "Results ready!\n",
      "Results ready!\n",
      "Results ready!\n",
      "Results ready!\n",
      "Results ready!\n",
      "Results ready!\n",
      "Results ready!\n",
      "Results ready!\n",
      "Results ready!\n",
      "Results ready!\n"
     ]
    },
    {
     "ename": "ElementClickInterceptedException",
     "evalue": "Message: element click intercepted: Element <button data-testid=\"submit-button\" type=\"submit\" class=\"uitk-button uitk-button-large uitk-button-fullWidth uitk-button-has-text uitk-button-primary\">...</button> is not clickable at point (508, 364). Other element would receive the click: <button type=\"button\" class=\"uitk-date-picker-day\" data-day=\"11\" aria-label=\"11 Feb 2023\"></button>\n  (Session info: chrome=108.0.5359.126)\nStacktrace:\nBacktrace:\n\t(No symbol) [0x00ECF243]\n\t(No symbol) [0x00E57FD1]\n\t(No symbol) [0x00D4D04D]\n\t(No symbol) [0x00D828B9]\n\t(No symbol) [0x00D808CC]\n\t(No symbol) [0x00D7E4CB]\n\t(No symbol) [0x00D7D164]\n\t(No symbol) [0x00D732A6]\n\t(No symbol) [0x00D9858C]\n\t(No symbol) [0x00D72BFF]\n\t(No symbol) [0x00D98804]\n\t(No symbol) [0x00DAC9EB]\n\t(No symbol) [0x00D98386]\n\t(No symbol) [0x00D7163C]\n\t(No symbol) [0x00D7269D]\n\tGetHandleVerifier [0x01169A22+2655074]\n\tGetHandleVerifier [0x0115CA24+2601828]\n\tGetHandleVerifier [0x00F78C0A+619850]\n\tGetHandleVerifier [0x00F77830+614768]\n\t(No symbol) [0x00E605FC]\n\t(No symbol) [0x00E65968]\n\t(No symbol) [0x00E65A55]\n\t(No symbol) [0x00E7051B]\n\tBaseThreadInitThunk [0x761E00F9+25]\n\tRtlGetAppContainerNamedObjectPath [0x77767BBE+286]\n\tRtlGetAppContainerNamedObjectPath [0x77767B8E+238]\n",
     "output_type": "error",
     "traceback": [
      "\u001b[1;31m---------------------------------------------------------------------------\u001b[0m",
      "\u001b[1;31mElementClickInterceptedException\u001b[0m          Traceback (most recent call last)",
      "Input \u001b[1;32mIn [39]\u001b[0m, in \u001b[0;36m<cell line: 3>\u001b[1;34m()\u001b[0m\n\u001b[0;32m     13\u001b[0m arrival_country_chooser(city)\n\u001b[0;32m     14\u001b[0m dep_date_chooser(value)\n\u001b[1;32m---> 15\u001b[0m \u001b[43msearch\u001b[49m\u001b[43m(\u001b[49m\u001b[43m)\u001b[49m\n\u001b[0;32m     16\u001b[0m compile_data(value)\n",
      "Input \u001b[1;32mIn [33]\u001b[0m, in \u001b[0;36msearch\u001b[1;34m()\u001b[0m\n\u001b[0;32m      1\u001b[0m \u001b[38;5;28;01mdef\u001b[39;00m \u001b[38;5;21msearch\u001b[39m():\n\u001b[0;32m      2\u001b[0m     search\u001b[38;5;241m=\u001b[39mdriver\u001b[38;5;241m.\u001b[39mfind_element(By\u001b[38;5;241m.\u001b[39mXPATH,\u001b[38;5;124m\"\u001b[39m\u001b[38;5;124m//button[@class=\u001b[39m\u001b[38;5;124m'\u001b[39m\u001b[38;5;124muitk-button uitk-button-large uitk-button-fullWidth uitk-button-has-text uitk-button-primary\u001b[39m\u001b[38;5;124m'\u001b[39m\u001b[38;5;124m]\u001b[39m\u001b[38;5;124m\"\u001b[39m)\n\u001b[1;32m----> 3\u001b[0m     \u001b[43msearch\u001b[49m\u001b[38;5;241;43m.\u001b[39;49m\u001b[43mclick\u001b[49m\u001b[43m(\u001b[49m\u001b[43m)\u001b[49m\n\u001b[0;32m      4\u001b[0m     time\u001b[38;5;241m.\u001b[39msleep(\u001b[38;5;241m15\u001b[39m)\n\u001b[0;32m      5\u001b[0m     \u001b[38;5;28mprint\u001b[39m(\u001b[38;5;124m'\u001b[39m\u001b[38;5;124mResults ready!\u001b[39m\u001b[38;5;124m'\u001b[39m)\n",
      "File \u001b[1;32m~\\anaconda3\\lib\\site-packages\\selenium\\webdriver\\remote\\webelement.py:88\u001b[0m, in \u001b[0;36mWebElement.click\u001b[1;34m(self)\u001b[0m\n\u001b[0;32m     86\u001b[0m \u001b[38;5;28;01mdef\u001b[39;00m \u001b[38;5;21mclick\u001b[39m(\u001b[38;5;28mself\u001b[39m) \u001b[38;5;241m-\u001b[39m\u001b[38;5;241m>\u001b[39m \u001b[38;5;28;01mNone\u001b[39;00m:\n\u001b[0;32m     87\u001b[0m     \u001b[38;5;124;03m\"\"\"Clicks the element.\"\"\"\u001b[39;00m\n\u001b[1;32m---> 88\u001b[0m     \u001b[38;5;28;43mself\u001b[39;49m\u001b[38;5;241;43m.\u001b[39;49m\u001b[43m_execute\u001b[49m\u001b[43m(\u001b[49m\u001b[43mCommand\u001b[49m\u001b[38;5;241;43m.\u001b[39;49m\u001b[43mCLICK_ELEMENT\u001b[49m\u001b[43m)\u001b[49m\n",
      "File \u001b[1;32m~\\anaconda3\\lib\\site-packages\\selenium\\webdriver\\remote\\webelement.py:396\u001b[0m, in \u001b[0;36mWebElement._execute\u001b[1;34m(self, command, params)\u001b[0m\n\u001b[0;32m    394\u001b[0m     params \u001b[38;5;241m=\u001b[39m {}\n\u001b[0;32m    395\u001b[0m params[\u001b[38;5;124m'\u001b[39m\u001b[38;5;124mid\u001b[39m\u001b[38;5;124m'\u001b[39m] \u001b[38;5;241m=\u001b[39m \u001b[38;5;28mself\u001b[39m\u001b[38;5;241m.\u001b[39m_id\n\u001b[1;32m--> 396\u001b[0m \u001b[38;5;28;01mreturn\u001b[39;00m \u001b[38;5;28;43mself\u001b[39;49m\u001b[38;5;241;43m.\u001b[39;49m\u001b[43m_parent\u001b[49m\u001b[38;5;241;43m.\u001b[39;49m\u001b[43mexecute\u001b[49m\u001b[43m(\u001b[49m\u001b[43mcommand\u001b[49m\u001b[43m,\u001b[49m\u001b[43m \u001b[49m\u001b[43mparams\u001b[49m\u001b[43m)\u001b[49m\n",
      "File \u001b[1;32m~\\anaconda3\\lib\\site-packages\\selenium\\webdriver\\remote\\webdriver.py:428\u001b[0m, in \u001b[0;36mWebDriver.execute\u001b[1;34m(self, driver_command, params)\u001b[0m\n\u001b[0;32m    426\u001b[0m response \u001b[38;5;241m=\u001b[39m \u001b[38;5;28mself\u001b[39m\u001b[38;5;241m.\u001b[39mcommand_executor\u001b[38;5;241m.\u001b[39mexecute(driver_command, params)\n\u001b[0;32m    427\u001b[0m \u001b[38;5;28;01mif\u001b[39;00m response:\n\u001b[1;32m--> 428\u001b[0m     \u001b[38;5;28;43mself\u001b[39;49m\u001b[38;5;241;43m.\u001b[39;49m\u001b[43merror_handler\u001b[49m\u001b[38;5;241;43m.\u001b[39;49m\u001b[43mcheck_response\u001b[49m\u001b[43m(\u001b[49m\u001b[43mresponse\u001b[49m\u001b[43m)\u001b[49m\n\u001b[0;32m    429\u001b[0m     response[\u001b[38;5;124m'\u001b[39m\u001b[38;5;124mvalue\u001b[39m\u001b[38;5;124m'\u001b[39m] \u001b[38;5;241m=\u001b[39m \u001b[38;5;28mself\u001b[39m\u001b[38;5;241m.\u001b[39m_unwrap_value(\n\u001b[0;32m    430\u001b[0m         response\u001b[38;5;241m.\u001b[39mget(\u001b[38;5;124m'\u001b[39m\u001b[38;5;124mvalue\u001b[39m\u001b[38;5;124m'\u001b[39m, \u001b[38;5;28;01mNone\u001b[39;00m))\n\u001b[0;32m    431\u001b[0m     \u001b[38;5;28;01mreturn\u001b[39;00m response\n",
      "File \u001b[1;32m~\\anaconda3\\lib\\site-packages\\selenium\\webdriver\\remote\\errorhandler.py:243\u001b[0m, in \u001b[0;36mErrorHandler.check_response\u001b[1;34m(self, response)\u001b[0m\n\u001b[0;32m    241\u001b[0m         alert_text \u001b[38;5;241m=\u001b[39m value[\u001b[38;5;124m'\u001b[39m\u001b[38;5;124malert\u001b[39m\u001b[38;5;124m'\u001b[39m]\u001b[38;5;241m.\u001b[39mget(\u001b[38;5;124m'\u001b[39m\u001b[38;5;124mtext\u001b[39m\u001b[38;5;124m'\u001b[39m)\n\u001b[0;32m    242\u001b[0m     \u001b[38;5;28;01mraise\u001b[39;00m exception_class(message, screen, stacktrace, alert_text)  \u001b[38;5;66;03m# type: ignore[call-arg]  # mypy is not smart enough here\u001b[39;00m\n\u001b[1;32m--> 243\u001b[0m \u001b[38;5;28;01mraise\u001b[39;00m exception_class(message, screen, stacktrace)\n",
      "\u001b[1;31mElementClickInterceptedException\u001b[0m: Message: element click intercepted: Element <button data-testid=\"submit-button\" type=\"submit\" class=\"uitk-button uitk-button-large uitk-button-fullWidth uitk-button-has-text uitk-button-primary\">...</button> is not clickable at point (508, 364). Other element would receive the click: <button type=\"button\" class=\"uitk-date-picker-day\" data-day=\"11\" aria-label=\"11 Feb 2023\"></button>\n  (Session info: chrome=108.0.5359.126)\nStacktrace:\nBacktrace:\n\t(No symbol) [0x00ECF243]\n\t(No symbol) [0x00E57FD1]\n\t(No symbol) [0x00D4D04D]\n\t(No symbol) [0x00D828B9]\n\t(No symbol) [0x00D808CC]\n\t(No symbol) [0x00D7E4CB]\n\t(No symbol) [0x00D7D164]\n\t(No symbol) [0x00D732A6]\n\t(No symbol) [0x00D9858C]\n\t(No symbol) [0x00D72BFF]\n\t(No symbol) [0x00D98804]\n\t(No symbol) [0x00DAC9EB]\n\t(No symbol) [0x00D98386]\n\t(No symbol) [0x00D7163C]\n\t(No symbol) [0x00D7269D]\n\tGetHandleVerifier [0x01169A22+2655074]\n\tGetHandleVerifier [0x0115CA24+2601828]\n\tGetHandleVerifier [0x00F78C0A+619850]\n\tGetHandleVerifier [0x00F77830+614768]\n\t(No symbol) [0x00E605FC]\n\t(No symbol) [0x00E65968]\n\t(No symbol) [0x00E65A55]\n\t(No symbol) [0x00E7051B]\n\tBaseThreadInitThunk [0x761E00F9+25]\n\tRtlGetAppContainerNamedObjectPath [0x77767BBE+286]\n\tRtlGetAppContainerNamedObjectPath [0x77767B8E+238]\n"
     ]
    }
   ],
   "source": [
    "city_list=[\"Ahmedabad\",\"Cuddapah\",\"Rajahmundry\",\"Vishakapatnam\",\"Vadodara\",\"Mangalore\"]\n",
    "date_list=[\"1 Feb 2023\",\"2 Feb 2023\",\"3 Feb 2023\",\"4 Feb 2023\",\"5 Feb 2023\",\"6 Feb 2023\",\"7 Feb 2023\",\"8 Feb 2023\",\"9 Feb 2023\"]\n",
    "for city in city_list:\n",
    "    for value in date_list:\n",
    "        link='https://www.expedia.co.in/'\n",
    "        driver.get(link)\n",
    "        time.sleep(2)\n",
    "        #choose flights only\n",
    "        flights_only=driver.find_element(By.XPATH,'//*[@id=\"wizardMainRegionV2\"]/div/div/div/div/ul/li[2]')\n",
    "        flights_only.click()\n",
    "        ticket_chooser(one_way_ticket)\n",
    "        dep_country_chooser(\"Hyderabad\")\n",
    "        arrival_country_chooser(city)\n",
    "        dep_date_chooser(value)\n",
    "        search()\n",
    "        compile_data(value)"
   ]
  },
  {
   "cell_type": "code",
   "execution_count": null,
   "id": "ae6ab805",
   "metadata": {},
   "outputs": [],
   "source": []
  }
 ],
 "metadata": {
  "kernelspec": {
   "display_name": "Python 3 (ipykernel)",
   "language": "python",
   "name": "python3"
  },
  "language_info": {
   "codemirror_mode": {
    "name": "ipython",
    "version": 3
   },
   "file_extension": ".py",
   "mimetype": "text/x-python",
   "name": "python",
   "nbconvert_exporter": "python",
   "pygments_lexer": "ipython3",
   "version": "3.9.12"
  }
 },
 "nbformat": 4,
 "nbformat_minor": 5
}
